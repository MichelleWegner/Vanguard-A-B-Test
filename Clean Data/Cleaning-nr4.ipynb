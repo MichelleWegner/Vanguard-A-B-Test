{
 "cells": [
  {
   "cell_type": "markdown",
   "metadata": {},
   "source": [
    "# Import libraries"
   ]
  },
  {
   "cell_type": "code",
   "execution_count": 7,
   "metadata": {},
   "outputs": [],
   "source": [
    "# Importing necessary libraries\n",
    "import pandas as pd\n",
    "import matplotlib.pyplot as plt\n",
    "import seaborn as sns\n",
    "from scipy.stats import chi2_contingency, mannwhitneyu\n",
    "from scipy.stats import zscore\n",
    "import numpy as np\n"
   ]
  },
  {
   "cell_type": "markdown",
   "metadata": {},
   "source": [
    "# Load Data"
   ]
  },
  {
   "cell_type": "code",
   "execution_count": 8,
   "metadata": {},
   "outputs": [
    {
     "ename": "FileNotFoundError",
     "evalue": "[Errno 2] No such file or directory: '../Raw Data/df_final_demo.txt'",
     "output_type": "error",
     "traceback": [
      "\u001b[0;31m---------------------------------------------------------------------------\u001b[0m",
      "\u001b[0;31mFileNotFoundError\u001b[0m                         Traceback (most recent call last)",
      "Cell \u001b[0;32mIn[8], line 7\u001b[0m\n\u001b[1;32m      4\u001b[0m file_path_demo \u001b[38;5;241m=\u001b[39m \u001b[38;5;124m'\u001b[39m\u001b[38;5;124m../Raw Data/df_final_demo.txt\u001b[39m\u001b[38;5;124m'\u001b[39m\n\u001b[1;32m      5\u001b[0m file_path_experiment \u001b[38;5;241m=\u001b[39m \u001b[38;5;124m'\u001b[39m\u001b[38;5;124m../Raw Data/df_final_experiment_clients.txt\u001b[39m\u001b[38;5;124m'\u001b[39m\n\u001b[0;32m----> 7\u001b[0m df_final_demo \u001b[38;5;241m=\u001b[39m pd\u001b[38;5;241m.\u001b[39mread_csv(file_path_demo, sep\u001b[38;5;241m=\u001b[39m\u001b[38;5;124m\"\u001b[39m\u001b[38;5;124m,\u001b[39m\u001b[38;5;124m\"\u001b[39m)\n\u001b[1;32m      8\u001b[0m df_final_experiment_clients \u001b[38;5;241m=\u001b[39m pd\u001b[38;5;241m.\u001b[39mread_csv(file_path_experiment, sep\u001b[38;5;241m=\u001b[39m\u001b[38;5;124m\"\u001b[39m\u001b[38;5;124m,\u001b[39m\u001b[38;5;124m\"\u001b[39m)\n\u001b[1;32m     10\u001b[0m df1 \u001b[38;5;241m=\u001b[39m pd\u001b[38;5;241m.\u001b[39mread_csv(file_path_1, sep\u001b[38;5;241m=\u001b[39m\u001b[38;5;124m\"\u001b[39m\u001b[38;5;124m,\u001b[39m\u001b[38;5;124m\"\u001b[39m)\n",
      "File \u001b[0;32m/Applications/anaconda3/lib/python3.11/site-packages/pandas/io/parsers/readers.py:948\u001b[0m, in \u001b[0;36mread_csv\u001b[0;34m(filepath_or_buffer, sep, delimiter, header, names, index_col, usecols, dtype, engine, converters, true_values, false_values, skipinitialspace, skiprows, skipfooter, nrows, na_values, keep_default_na, na_filter, verbose, skip_blank_lines, parse_dates, infer_datetime_format, keep_date_col, date_parser, date_format, dayfirst, cache_dates, iterator, chunksize, compression, thousands, decimal, lineterminator, quotechar, quoting, doublequote, escapechar, comment, encoding, encoding_errors, dialect, on_bad_lines, delim_whitespace, low_memory, memory_map, float_precision, storage_options, dtype_backend)\u001b[0m\n\u001b[1;32m    935\u001b[0m kwds_defaults \u001b[38;5;241m=\u001b[39m _refine_defaults_read(\n\u001b[1;32m    936\u001b[0m     dialect,\n\u001b[1;32m    937\u001b[0m     delimiter,\n\u001b[0;32m   (...)\u001b[0m\n\u001b[1;32m    944\u001b[0m     dtype_backend\u001b[38;5;241m=\u001b[39mdtype_backend,\n\u001b[1;32m    945\u001b[0m )\n\u001b[1;32m    946\u001b[0m kwds\u001b[38;5;241m.\u001b[39mupdate(kwds_defaults)\n\u001b[0;32m--> 948\u001b[0m \u001b[38;5;28;01mreturn\u001b[39;00m _read(filepath_or_buffer, kwds)\n",
      "File \u001b[0;32m/Applications/anaconda3/lib/python3.11/site-packages/pandas/io/parsers/readers.py:611\u001b[0m, in \u001b[0;36m_read\u001b[0;34m(filepath_or_buffer, kwds)\u001b[0m\n\u001b[1;32m    608\u001b[0m _validate_names(kwds\u001b[38;5;241m.\u001b[39mget(\u001b[38;5;124m\"\u001b[39m\u001b[38;5;124mnames\u001b[39m\u001b[38;5;124m\"\u001b[39m, \u001b[38;5;28;01mNone\u001b[39;00m))\n\u001b[1;32m    610\u001b[0m \u001b[38;5;66;03m# Create the parser.\u001b[39;00m\n\u001b[0;32m--> 611\u001b[0m parser \u001b[38;5;241m=\u001b[39m TextFileReader(filepath_or_buffer, \u001b[38;5;241m*\u001b[39m\u001b[38;5;241m*\u001b[39mkwds)\n\u001b[1;32m    613\u001b[0m \u001b[38;5;28;01mif\u001b[39;00m chunksize \u001b[38;5;129;01mor\u001b[39;00m iterator:\n\u001b[1;32m    614\u001b[0m     \u001b[38;5;28;01mreturn\u001b[39;00m parser\n",
      "File \u001b[0;32m/Applications/anaconda3/lib/python3.11/site-packages/pandas/io/parsers/readers.py:1448\u001b[0m, in \u001b[0;36mTextFileReader.__init__\u001b[0;34m(self, f, engine, **kwds)\u001b[0m\n\u001b[1;32m   1445\u001b[0m     \u001b[38;5;28mself\u001b[39m\u001b[38;5;241m.\u001b[39moptions[\u001b[38;5;124m\"\u001b[39m\u001b[38;5;124mhas_index_names\u001b[39m\u001b[38;5;124m\"\u001b[39m] \u001b[38;5;241m=\u001b[39m kwds[\u001b[38;5;124m\"\u001b[39m\u001b[38;5;124mhas_index_names\u001b[39m\u001b[38;5;124m\"\u001b[39m]\n\u001b[1;32m   1447\u001b[0m \u001b[38;5;28mself\u001b[39m\u001b[38;5;241m.\u001b[39mhandles: IOHandles \u001b[38;5;241m|\u001b[39m \u001b[38;5;28;01mNone\u001b[39;00m \u001b[38;5;241m=\u001b[39m \u001b[38;5;28;01mNone\u001b[39;00m\n\u001b[0;32m-> 1448\u001b[0m \u001b[38;5;28mself\u001b[39m\u001b[38;5;241m.\u001b[39m_engine \u001b[38;5;241m=\u001b[39m \u001b[38;5;28mself\u001b[39m\u001b[38;5;241m.\u001b[39m_make_engine(f, \u001b[38;5;28mself\u001b[39m\u001b[38;5;241m.\u001b[39mengine)\n",
      "File \u001b[0;32m/Applications/anaconda3/lib/python3.11/site-packages/pandas/io/parsers/readers.py:1705\u001b[0m, in \u001b[0;36mTextFileReader._make_engine\u001b[0;34m(self, f, engine)\u001b[0m\n\u001b[1;32m   1703\u001b[0m     \u001b[38;5;28;01mif\u001b[39;00m \u001b[38;5;124m\"\u001b[39m\u001b[38;5;124mb\u001b[39m\u001b[38;5;124m\"\u001b[39m \u001b[38;5;129;01mnot\u001b[39;00m \u001b[38;5;129;01min\u001b[39;00m mode:\n\u001b[1;32m   1704\u001b[0m         mode \u001b[38;5;241m+\u001b[39m\u001b[38;5;241m=\u001b[39m \u001b[38;5;124m\"\u001b[39m\u001b[38;5;124mb\u001b[39m\u001b[38;5;124m\"\u001b[39m\n\u001b[0;32m-> 1705\u001b[0m \u001b[38;5;28mself\u001b[39m\u001b[38;5;241m.\u001b[39mhandles \u001b[38;5;241m=\u001b[39m get_handle(\n\u001b[1;32m   1706\u001b[0m     f,\n\u001b[1;32m   1707\u001b[0m     mode,\n\u001b[1;32m   1708\u001b[0m     encoding\u001b[38;5;241m=\u001b[39m\u001b[38;5;28mself\u001b[39m\u001b[38;5;241m.\u001b[39moptions\u001b[38;5;241m.\u001b[39mget(\u001b[38;5;124m\"\u001b[39m\u001b[38;5;124mencoding\u001b[39m\u001b[38;5;124m\"\u001b[39m, \u001b[38;5;28;01mNone\u001b[39;00m),\n\u001b[1;32m   1709\u001b[0m     compression\u001b[38;5;241m=\u001b[39m\u001b[38;5;28mself\u001b[39m\u001b[38;5;241m.\u001b[39moptions\u001b[38;5;241m.\u001b[39mget(\u001b[38;5;124m\"\u001b[39m\u001b[38;5;124mcompression\u001b[39m\u001b[38;5;124m\"\u001b[39m, \u001b[38;5;28;01mNone\u001b[39;00m),\n\u001b[1;32m   1710\u001b[0m     memory_map\u001b[38;5;241m=\u001b[39m\u001b[38;5;28mself\u001b[39m\u001b[38;5;241m.\u001b[39moptions\u001b[38;5;241m.\u001b[39mget(\u001b[38;5;124m\"\u001b[39m\u001b[38;5;124mmemory_map\u001b[39m\u001b[38;5;124m\"\u001b[39m, \u001b[38;5;28;01mFalse\u001b[39;00m),\n\u001b[1;32m   1711\u001b[0m     is_text\u001b[38;5;241m=\u001b[39mis_text,\n\u001b[1;32m   1712\u001b[0m     errors\u001b[38;5;241m=\u001b[39m\u001b[38;5;28mself\u001b[39m\u001b[38;5;241m.\u001b[39moptions\u001b[38;5;241m.\u001b[39mget(\u001b[38;5;124m\"\u001b[39m\u001b[38;5;124mencoding_errors\u001b[39m\u001b[38;5;124m\"\u001b[39m, \u001b[38;5;124m\"\u001b[39m\u001b[38;5;124mstrict\u001b[39m\u001b[38;5;124m\"\u001b[39m),\n\u001b[1;32m   1713\u001b[0m     storage_options\u001b[38;5;241m=\u001b[39m\u001b[38;5;28mself\u001b[39m\u001b[38;5;241m.\u001b[39moptions\u001b[38;5;241m.\u001b[39mget(\u001b[38;5;124m\"\u001b[39m\u001b[38;5;124mstorage_options\u001b[39m\u001b[38;5;124m\"\u001b[39m, \u001b[38;5;28;01mNone\u001b[39;00m),\n\u001b[1;32m   1714\u001b[0m )\n\u001b[1;32m   1715\u001b[0m \u001b[38;5;28;01massert\u001b[39;00m \u001b[38;5;28mself\u001b[39m\u001b[38;5;241m.\u001b[39mhandles \u001b[38;5;129;01mis\u001b[39;00m \u001b[38;5;129;01mnot\u001b[39;00m \u001b[38;5;28;01mNone\u001b[39;00m\n\u001b[1;32m   1716\u001b[0m f \u001b[38;5;241m=\u001b[39m \u001b[38;5;28mself\u001b[39m\u001b[38;5;241m.\u001b[39mhandles\u001b[38;5;241m.\u001b[39mhandle\n",
      "File \u001b[0;32m/Applications/anaconda3/lib/python3.11/site-packages/pandas/io/common.py:863\u001b[0m, in \u001b[0;36mget_handle\u001b[0;34m(path_or_buf, mode, encoding, compression, memory_map, is_text, errors, storage_options)\u001b[0m\n\u001b[1;32m    858\u001b[0m \u001b[38;5;28;01melif\u001b[39;00m \u001b[38;5;28misinstance\u001b[39m(handle, \u001b[38;5;28mstr\u001b[39m):\n\u001b[1;32m    859\u001b[0m     \u001b[38;5;66;03m# Check whether the filename is to be opened in binary mode.\u001b[39;00m\n\u001b[1;32m    860\u001b[0m     \u001b[38;5;66;03m# Binary mode does not support 'encoding' and 'newline'.\u001b[39;00m\n\u001b[1;32m    861\u001b[0m     \u001b[38;5;28;01mif\u001b[39;00m ioargs\u001b[38;5;241m.\u001b[39mencoding \u001b[38;5;129;01mand\u001b[39;00m \u001b[38;5;124m\"\u001b[39m\u001b[38;5;124mb\u001b[39m\u001b[38;5;124m\"\u001b[39m \u001b[38;5;129;01mnot\u001b[39;00m \u001b[38;5;129;01min\u001b[39;00m ioargs\u001b[38;5;241m.\u001b[39mmode:\n\u001b[1;32m    862\u001b[0m         \u001b[38;5;66;03m# Encoding\u001b[39;00m\n\u001b[0;32m--> 863\u001b[0m         handle \u001b[38;5;241m=\u001b[39m \u001b[38;5;28mopen\u001b[39m(\n\u001b[1;32m    864\u001b[0m             handle,\n\u001b[1;32m    865\u001b[0m             ioargs\u001b[38;5;241m.\u001b[39mmode,\n\u001b[1;32m    866\u001b[0m             encoding\u001b[38;5;241m=\u001b[39mioargs\u001b[38;5;241m.\u001b[39mencoding,\n\u001b[1;32m    867\u001b[0m             errors\u001b[38;5;241m=\u001b[39merrors,\n\u001b[1;32m    868\u001b[0m             newline\u001b[38;5;241m=\u001b[39m\u001b[38;5;124m\"\u001b[39m\u001b[38;5;124m\"\u001b[39m,\n\u001b[1;32m    869\u001b[0m         )\n\u001b[1;32m    870\u001b[0m     \u001b[38;5;28;01melse\u001b[39;00m:\n\u001b[1;32m    871\u001b[0m         \u001b[38;5;66;03m# Binary mode\u001b[39;00m\n\u001b[1;32m    872\u001b[0m         handle \u001b[38;5;241m=\u001b[39m \u001b[38;5;28mopen\u001b[39m(handle, ioargs\u001b[38;5;241m.\u001b[39mmode)\n",
      "\u001b[0;31mFileNotFoundError\u001b[0m: [Errno 2] No such file or directory: '../Raw Data/df_final_demo.txt'"
     ]
    }
   ],
   "source": [
    "# Reading Digital Footprints data\n",
    "file_path_1 = '../Raw Data/df_final_web_data_pt_1.txt'\n",
    "file_path_2 = '../Raw Data/df_final_web_data_pt_2.txt'\n",
    "file_path_demo = '../Raw Data/df_final_demo.txt'\n",
    "file_path_experiment = '../Raw Data/df_final_experiment_clients.txt'\n",
    "\n",
    "df_final_demo = pd.read_csv(file_path_demo, sep=\",\")\n",
    "df_final_experiment_clients = pd.read_csv(file_path_experiment, sep=\",\")\n",
    "\n",
    "df1 = pd.read_csv(file_path_1, sep=\",\")\n",
    "df2 = pd.read_csv(file_path_2, sep=',')\n",
    "\n",
    "# Combining Digital Footprints data\n",
    "df_combined = pd.concat([df1, df2])\n",
    "\n",
    "# Saving combined data\n",
    "output_path = '../Raw Data/df_combined.txt'\n",
    "df_combined.to_csv(output_path, sep=',', index=False)\n",
    "print(\"Data successfully merged and saved in:\", output_path)\n"
   ]
  },
  {
   "cell_type": "markdown",
   "metadata": {},
   "source": [
    "# Merge Dataset's"
   ]
  },
  {
   "cell_type": "code",
   "execution_count": null,
   "metadata": {},
   "outputs": [
    {
     "name": "stdout",
     "output_type": "stream",
     "text": [
      "   client_id  clnt_tenure_yr  clnt_tenure_mnth  clnt_age gendr  num_accts  \\\n",
      "0     836976             6.0              73.0      60.5     U        2.0   \n",
      "1     836976             6.0              73.0      60.5     U        2.0   \n",
      "2     836976             6.0              73.0      60.5     U        2.0   \n",
      "3     836976             6.0              73.0      60.5     U        2.0   \n",
      "4     836976             6.0              73.0      60.5     U        2.0   \n",
      "\n",
      "       bal  calls_6_mnth  logons_6_mnth variation            visitor_id  \\\n",
      "0  45105.3           6.0            9.0      Test  427070339_1413275162   \n",
      "1  45105.3           6.0            9.0      Test  427070339_1413275162   \n",
      "2  45105.3           6.0            9.0      Test  427070339_1413275162   \n",
      "3  45105.3           6.0            9.0      Test  427070339_1413275162   \n",
      "4  45105.3           6.0            9.0      Test  427070339_1413275162   \n",
      "\n",
      "                      visit_id process_step            date_time  \n",
      "0  228976764_46825473280_96584      confirm  2017-04-02 11:51:13  \n",
      "1  228976764_46825473280_96584      confirm  2017-04-02 11:47:50  \n",
      "2  228976764_46825473280_96584      confirm  2017-04-02 11:46:45  \n",
      "3  228976764_46825473280_96584       step_3  2017-04-02 11:23:08  \n",
      "4  228976764_46825473280_96584       step_2  2017-04-02 11:22:24  \n"
     ]
    }
   ],
   "source": [
    "# Standardizing the column names\n",
    "df_final_demo.columns = df_final_demo.columns.str.strip().str.lower()\n",
    "df_final_experiment_clients.columns = df_final_experiment_clients.columns.str.strip().str.lower()\n",
    "df_combined_web_data.columns = df_combined_web_data.columns.str.strip().str.lower()\n",
    "\n",
    "# Merging the dataframes\n",
    "merged_df = pd.merge(df_final_demo, df_final_experiment_clients, on='client_id', how='inner')\n",
    "merged_df = pd.merge(merged_df, df_combined_web_data, on='client_id', how='inner')\n",
    "\n",
    "# Check the merged dataframe\n",
    "print(merged_df.head())\n"
   ]
  },
  {
   "cell_type": "markdown",
   "metadata": {},
   "source": [
    "# Clean Data\n",
    "Merge all datasets into a single dataframe."
   ]
  },
  {
   "cell_type": "code",
   "execution_count": null,
   "metadata": {},
   "outputs": [
    {
     "name": "stdout",
     "output_type": "stream",
     "text": [
      "client_id           0\n",
      "clnt_tenure_yr      0\n",
      "clnt_tenure_mnth    0\n",
      "clnt_age            0\n",
      "gendr               0\n",
      "num_accts           0\n",
      "bal                 0\n",
      "calls_6_mnth        0\n",
      "logons_6_mnth       0\n",
      "variation           0\n",
      "visitor_id          0\n",
      "visit_id            0\n",
      "process_step        0\n",
      "date_time           0\n",
      "dtype: int64\n"
     ]
    }
   ],
   "source": [
    "# Drop rows with missing values\n",
    "Clean_Data = merged_df.dropna()\n",
    "\n",
    "# Check for remaining missing values\n",
    "print(Clean_Data.isnull().sum())\n"
   ]
  },
  {
   "cell_type": "markdown",
   "metadata": {},
   "source": [
    "# Data Cleaning\n",
    "\n",
    "Remove rows with missing values."
   ]
  },
  {
   "cell_type": "code",
   "execution_count": null,
   "metadata": {},
   "outputs": [],
   "source": [
    "# Remove duplicates\n",
    "Clean_Data = Clean_Data.drop_duplicates()\n"
   ]
  },
  {
   "cell_type": "markdown",
   "metadata": {},
   "source": [
    "# Handle Duplicates\n",
    "Remove any duplicate rows."
   ]
  },
  {
   "cell_type": "code",
   "execution_count": null,
   "metadata": {},
   "outputs": [],
   "source": [
    "# Remove duplicates\n",
    "Clean_Data = Clean_Data.drop_duplicates()\n"
   ]
  },
  {
   "cell_type": "markdown",
   "metadata": {},
   "source": [
    "# Consistency in Data Types\n",
    "Ensure numerical and categorical data types are correct.\n"
   ]
  },
  {
   "cell_type": "code",
   "execution_count": null,
   "metadata": {},
   "outputs": [],
   "source": [
    "# Convert numerical columns to appropriate data types\n",
    "numerical_columns = ['clnt_age', 'num_accts', 'bal', 'calls_6_mnth', 'logons_6_mnth']\n",
    "Clean_Data[numerical_columns] = Clean_Data[numerical_columns].apply(pd.to_numeric, errors='coerce')\n",
    "\n",
    "# Ensure 'gendr' is treated as a category\n",
    "Clean_Data['gendr'] = Clean_Data['gendr'].astype('category')\n"
   ]
  },
  {
   "cell_type": "markdown",
   "metadata": {},
   "source": [
    "# Data Validation\n",
    "\n",
    "Identify and remove outliers in numerical columns, especially 'bal'."
   ]
  },
  {
   "cell_type": "code",
   "execution_count": null,
   "metadata": {},
   "outputs": [],
   "source": [
    "# Calculate z-scores for 'bal'\n",
    "Clean_Data['bal_zscore'] = zscore(Clean_Data['bal'])\n",
    "\n",
    "# Filter out outliers (those with z-score < -3 or > 3)\n",
    "Clean_Data_no_outliers = Clean_Data[(Clean_Data['bal_zscore'] >= -3) & (Clean_Data['bal_zscore'] <= 3)]\n",
    "\n",
    "# Drop the z-score column as it was only needed for outlier detection\n",
    "Clean_Data_no_outliers = Clean_Data_no_outliers.drop(columns=['bal_zscore'])\n"
   ]
  },
  {
   "cell_type": "markdown",
   "metadata": {},
   "source": [
    "# Clean 'gendr' Column\n",
    "Remove rows where 'gendr' is 'U' or 'X', and drop NaN values"
   ]
  },
  {
   "cell_type": "code",
   "execution_count": null,
   "metadata": {},
   "outputs": [
    {
     "name": "stdout",
     "output_type": "stream",
     "text": [
      "['M', 'F']\n",
      "Categories (4, object): ['F', 'M', 'U', 'X']\n"
     ]
    }
   ],
   "source": [
    "# Filter out 'U' and 'X' from 'gendr' and drop NaN values\n",
    "Clean_Data_no_outliers = Clean_Data_no_outliers[Clean_Data_no_outliers['gendr'].isin(['M', 'F'])].dropna(subset=['gendr'])\n",
    "\n",
    "# Check unique values in 'gendr' to confirm cleaning\n",
    "print(Clean_Data_no_outliers['gendr'].unique())\n"
   ]
  },
  {
   "cell_type": "markdown",
   "metadata": {},
   "source": [
    "# Final Cleanup and Save\n",
    "Ensure the dataset is fully cleaned and save it."
   ]
  },
  {
   "cell_type": "code",
   "execution_count": null,
   "metadata": {},
   "outputs": [
    {
     "name": "stdout",
     "output_type": "stream",
     "text": [
      "client_id           0\n",
      "clnt_tenure_yr      0\n",
      "clnt_tenure_mnth    0\n",
      "clnt_age            0\n",
      "gendr               0\n",
      "num_accts           0\n",
      "bal                 0\n",
      "calls_6_mnth        0\n",
      "logons_6_mnth       0\n",
      "variation           0\n",
      "visitor_id          0\n",
      "visit_id            0\n",
      "process_step        0\n",
      "date_time           0\n",
      "dtype: int64\n",
      "client_id              int64\n",
      "clnt_tenure_yr       float64\n",
      "clnt_tenure_mnth     float64\n",
      "clnt_age             float64\n",
      "gendr               category\n",
      "num_accts            float64\n",
      "bal                  float64\n",
      "calls_6_mnth         float64\n",
      "logons_6_mnth        float64\n",
      "variation             object\n",
      "visitor_id            object\n",
      "visit_id              object\n",
      "process_step          object\n",
      "date_time             object\n",
      "dtype: object\n"
     ]
    }
   ],
   "source": [
    "# Final check for missing values and datatypes\n",
    "print(Clean_Data_no_outliers.isnull().sum())\n",
    "print(Clean_Data_no_outliers.dtypes)\n",
    "\n",
    "# Save the cleaned dataset\n",
    "Clean_Data_no_outliers.to_csv('Clean_Data.csv', index=False)\n"
   ]
  },
  {
   "cell_type": "code",
   "execution_count": null,
   "metadata": {},
   "outputs": [
    {
     "name": "stdout",
     "output_type": "stream",
     "text": [
      "Number of rows: 317123\n",
      "Number of columns: 15\n"
     ]
    }
   ],
   "source": [
    "num_rows, num_cols = Clean_Data.shape\n",
    "print(f\"Number of rows: {num_rows}\")\n",
    "print(f\"Number of columns: {num_cols}\")"
   ]
  },
  {
   "cell_type": "markdown",
   "metadata": {},
   "source": [
    "client_id: A unique identifier for each client.\n",
    "clnt_tenure_yr: The duration of the client's membership with Vanguard in years.\n",
    "clnt_tenure_mnth: The duration of the client's membership with Vanguard in months.\n",
    "clnt_age: The age of the customer.\n",
    "gendr: The gender of the customer, with possible values being “M” (male), “F” (female), “U” (unknown), or “X” (unspecified).\n",
    "num_accts: The number of accounts the customer has with Vanguard.\n",
    "bal: The total balance across all of the customer's accounts.\n",
    "calls_6_mnth: The number of calls the customer has made to customer service in the last six months.\n",
    "logons_6_mnth: The number of times the customer has logged on to the Vanguard platform in the last six months.\n",
    "variation: The group assignment for the A/B test (either “Control” or “Test”).\n",
    "visitor_id: A unique identifier for each customer-device combination.\n",
    "visit_id: A unique identifier for each visit/session on the website.\n",
    "process_step: The step in the digital process that the customer is in (e.g., “step_1”, “step_2”, “step_3”, or “confirm”).\n",
    "date_time: The timestamp of when the customer performed a specific action on the website.\n"
   ]
  },
  {
   "cell_type": "code",
   "execution_count": null,
   "metadata": {},
   "outputs": [],
   "source": []
  },
  {
   "cell_type": "code",
   "execution_count": null,
   "metadata": {},
   "outputs": [],
   "source": []
  }
 ],
 "metadata": {
  "kernelspec": {
   "display_name": "base",
   "language": "python",
   "name": "python3"
  },
  "language_info": {
   "codemirror_mode": {
    "name": "ipython",
    "version": 3
   },
   "file_extension": ".py",
   "mimetype": "text/x-python",
   "name": "python",
   "nbconvert_exporter": "python",
   "pygments_lexer": "ipython3",
   "version": "3.11.7"
  }
 },
 "nbformat": 4,
 "nbformat_minor": 2
}
