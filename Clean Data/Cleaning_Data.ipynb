{
 "cells": [
  {
   "cell_type": "markdown",
   "metadata": {},
   "source": [
    "## CLEANING DATA"
   ]
  },
  {
   "cell_type": "code",
   "execution_count": 2,
   "metadata": {},
   "outputs": [
    {
     "name": "stdout",
     "output_type": "stream",
     "text": [
      "Requirement already satisfied: pandas in /Applications/anaconda3/lib/python3.11/site-packages (2.1.4)\n",
      "Requirement already satisfied: numpy<2,>=1.23.2 in /Applications/anaconda3/lib/python3.11/site-packages (from pandas) (1.26.4)\n",
      "Requirement already satisfied: python-dateutil>=2.8.2 in /Applications/anaconda3/lib/python3.11/site-packages (from pandas) (2.8.2)\n",
      "Requirement already satisfied: pytz>=2020.1 in /Applications/anaconda3/lib/python3.11/site-packages (from pandas) (2023.3.post1)\n",
      "Requirement already satisfied: tzdata>=2022.1 in /Applications/anaconda3/lib/python3.11/site-packages (from pandas) (2023.3)\n",
      "Requirement already satisfied: six>=1.5 in /Applications/anaconda3/lib/python3.11/site-packages (from python-dateutil>=2.8.2->pandas) (1.16.0)\n",
      "Note: you may need to restart the kernel to use updated packages.\n"
     ]
    }
   ],
   "source": [
    "pip install pandas"
   ]
  },
  {
   "cell_type": "code",
   "execution_count": 3,
   "metadata": {},
   "outputs": [],
   "source": [
    "#Importing libraries\n",
    "import pandas as pd\n",
    "import matplotlib.pyplot as plt\n",
    "import seaborn as sns"
   ]
  },
  {
   "cell_type": "code",
   "execution_count": 4,
   "metadata": {},
   "outputs": [],
   "source": [
    "# Reading Digital Footprints data\n",
    "file_path_1 = '/Users/mishka/Documents/GitHub/Fifth-Project-EDA/Raw/df_final_web_data_pt_1.txt'\n",
    "file_path_2 = '/Users/mishka/Documents/GitHub/Fifth-Project-EDA/Raw/df_final_web_data_pt_2.txt'\n",
    "file_path_demo = '/Users/mishka/Documents/GitHub/Fifth-Project-EDA/Raw/df_final_demo.txt'\n",
    "file_path_experiment = '/Users/mishka/Documents/GitHub/Fifth-Project-EDA/Raw/df_final_experiment_clients.txt'\n",
    "\n",
    "df_final_demo = pd.read_csv(file_path_demo, sep=\",\")\n",
    "df_final_experiment_clients = pd.read_csv(file_path_experiment, sep=\",\")\n",
    "\n",
    "df1 = pd.read_csv(file_path_1, sep=\",\")\n",
    "df2 = pd.read_csv(file_path_2, sep=',')"
   ]
  },
  {
   "cell_type": "code",
   "execution_count": 5,
   "metadata": {},
   "outputs": [],
   "source": [
    "# Combining Digital Footprints data\n",
    "df_combined = pd.concat([df1, df2])\n"
   ]
  },
  {
   "cell_type": "code",
   "execution_count": 6,
   "metadata": {},
   "outputs": [
    {
     "name": "stdout",
     "output_type": "stream",
     "text": [
      "Data successfully merged and saved in: /Users/mishka/Documents/GitHub/Fifth-Project-EDA/Raw/df_combined.txt\n"
     ]
    }
   ],
   "source": [
    "# Saving combined data\n",
    "output_path = '/Users/mishka/Documents/GitHub/Fifth-Project-EDA/Raw/df_combined.txt'\n",
    "df_combined.to_csv(output_path, sep=',', index=False)\n",
    "print(\"Data successfully merged and saved in:\", output_path)\n"
   ]
  },
  {
   "cell_type": "markdown",
   "metadata": {},
   "source": [
    "## Exploring the data/Exploration der Daten"
   ]
  },
  {
   "cell_type": "code",
   "execution_count": 7,
   "metadata": {},
   "outputs": [
    {
     "name": "stdout",
     "output_type": "stream",
     "text": [
      "   client_id  clnt_tenure_yr  clnt_tenure_mnth  clnt_age gendr  num_accts  \\\n",
      "0     836976             6.0              73.0      60.5     U        2.0   \n",
      "1    2304905             7.0              94.0      58.0     U        2.0   \n",
      "2    1439522             5.0              64.0      32.0     U        2.0   \n",
      "3    1562045            16.0             198.0      49.0     M        2.0   \n",
      "4    5126305            12.0             145.0      33.0     F        2.0   \n",
      "\n",
      "         bal  calls_6_mnth  logons_6_mnth  \n",
      "0   45105.30           6.0            9.0  \n",
      "1  110860.30           6.0            9.0  \n",
      "2   52467.79           6.0            9.0  \n",
      "3   67454.65           3.0            6.0  \n",
      "4  103671.75           0.0            3.0  \n",
      "   client_id            visitor_id                      visit_id process_step  \\\n",
      "0    9988021  580560515_7732621733  781255054_21935453173_531117       step_3   \n",
      "1    9988021  580560515_7732621733  781255054_21935453173_531117       step_2   \n",
      "2    9988021  580560515_7732621733  781255054_21935453173_531117       step_3   \n",
      "3    9988021  580560515_7732621733  781255054_21935453173_531117       step_2   \n",
      "4    9988021  580560515_7732621733  781255054_21935453173_531117       step_3   \n",
      "\n",
      "             date_time  \n",
      "0  2017-04-17 15:27:07  \n",
      "1  2017-04-17 15:26:51  \n",
      "2  2017-04-17 15:19:22  \n",
      "3  2017-04-17 15:19:13  \n",
      "4  2017-04-17 15:18:04  \n",
      "   client_id Variation\n",
      "0    9988021      Test\n",
      "1    8320017      Test\n",
      "2    4033851   Control\n",
      "3    1982004      Test\n",
      "4    9294070   Control\n"
     ]
    }
   ],
   "source": [
    "\n",
    "# Exploring the data\n",
    "print(df_final_demo.head())\n",
    "print(df_combined.head())\n",
    "print(df_final_experiment_clients.head())\n"
   ]
  },
  {
   "cell_type": "markdown",
   "metadata": {},
   "source": []
  },
  {
   "cell_type": "code",
   "execution_count": 8,
   "metadata": {},
   "outputs": [
    {
     "name": "stdout",
     "output_type": "stream",
     "text": [
      "(70609, 9)\n",
      "(755405, 5)\n",
      "(70609, 2)\n"
     ]
    }
   ],
   "source": [
    "# Checking shape of dataframes\n",
    "print(df_final_demo.shape)\n",
    "print(df_combined.shape)\n",
    "print(df_final_experiment_clients.shape)\n",
    "\n"
   ]
  },
  {
   "cell_type": "code",
   "execution_count": 9,
   "metadata": {},
   "outputs": [
    {
     "name": "stdout",
     "output_type": "stream",
     "text": [
      "Statistical overview for df_final_demo:\n",
      "          client_id  clnt_tenure_yr  clnt_tenure_mnth      clnt_age  \\\n",
      "count  7.060900e+04    70595.000000      70595.000000  70594.000000   \n",
      "mean   5.004992e+06       12.052950        150.659367     46.442240   \n",
      "std    2.877278e+06        6.871819         82.089854     15.591273   \n",
      "min    1.690000e+02        2.000000         33.000000     13.500000   \n",
      "25%    2.519329e+06        6.000000         82.000000     32.500000   \n",
      "50%    5.016978e+06       11.000000        136.000000     47.000000   \n",
      "75%    7.483085e+06       16.000000        192.000000     59.000000   \n",
      "max    9.999839e+06       62.000000        749.000000     96.000000   \n",
      "\n",
      "          num_accts           bal  calls_6_mnth  logons_6_mnth  \n",
      "count  70595.000000  7.059500e+04  70595.000000   70595.000000  \n",
      "mean       2.255528  1.474452e+05      3.382478       5.566740  \n",
      "std        0.534997  3.015087e+05      2.236580       2.353286  \n",
      "min        1.000000  1.378942e+04      0.000000       1.000000  \n",
      "25%        2.000000  3.734683e+04      1.000000       4.000000  \n",
      "50%        2.000000  6.333290e+04      3.000000       5.000000  \n",
      "75%        2.000000  1.375449e+05      6.000000       7.000000  \n",
      "max        8.000000  1.632004e+07      7.000000       9.000000  \n",
      "Statistical overview for df_final_experiment_clients:\n",
      "          client_id\n",
      "count  7.060900e+04\n",
      "mean   5.004992e+06\n",
      "std    2.877278e+06\n",
      "min    1.690000e+02\n",
      "25%    2.519329e+06\n",
      "50%    5.016978e+06\n",
      "75%    7.483085e+06\n",
      "max    9.999839e+06\n",
      "Statistical overview for df_combined:\n",
      "          client_id\n",
      "count  7.554050e+05\n",
      "mean   5.013632e+06\n",
      "std    2.879152e+06\n",
      "min    1.690000e+02\n",
      "25%    2.519882e+06\n",
      "50%    5.033441e+06\n",
      "75%    7.496063e+06\n",
      "max    9.999875e+06\n"
     ]
    }
   ],
   "source": [
    "# Basic statistical overview\n",
    "print(\"Statistical overview for df_final_demo:\")\n",
    "print(df_final_demo.describe())\n",
    "print(\"Statistical overview for df_final_experiment_clients:\")\n",
    "print(df_final_experiment_clients.describe())\n",
    "print(\"Statistical overview for df_combined:\")\n",
    "print(df_combined.describe())\n"
   ]
  },
  {
   "cell_type": "code",
   "execution_count": 10,
   "metadata": {},
   "outputs": [
    {
     "name": "stdout",
     "output_type": "stream",
     "text": [
      "Missing values in df_final_demo:\n",
      "client_id            0\n",
      "clnt_tenure_yr      14\n",
      "clnt_tenure_mnth    14\n",
      "clnt_age            15\n",
      "gendr               14\n",
      "num_accts           14\n",
      "bal                 14\n",
      "calls_6_mnth        14\n",
      "logons_6_mnth       14\n",
      "dtype: int64\n",
      "Missing values in df_final_experiment_clients:\n",
      "client_id        0\n",
      "Variation    20109\n",
      "dtype: int64\n",
      "Missing values in df_combined:\n",
      "client_id       0\n",
      "visitor_id      0\n",
      "visit_id        0\n",
      "process_step    0\n",
      "date_time       0\n",
      "dtype: int64\n"
     ]
    }
   ],
   "source": [
    "# Checking for missing values\n",
    "print(\"Missing values in df_final_demo:\")\n",
    "print(df_final_demo.isnull().sum())\n",
    "\n",
    "print(\"Missing values in df_final_experiment_clients:\")\n",
    "print(df_final_experiment_clients.isnull().sum())\n",
    "\n",
    "print(\"Missing values in df_combined:\")\n",
    "print(df_combined.isnull().sum())"
   ]
  },
  {
   "cell_type": "markdown",
   "metadata": {},
   "source": [
    "## Cleaning Datasets"
   ]
  },
  {
   "cell_type": "markdown",
   "metadata": {},
   "source": [
    "Cleaning process for df_final_demo"
   ]
  },
  {
   "cell_type": "code",
   "execution_count": 11,
   "metadata": {},
   "outputs": [],
   "source": [
    "# Data cleaning for df_final_demo\n",
    "df_final_demo = df_final_demo.drop_duplicates()\n",
    "numerical_columns_demo = df_final_demo.select_dtypes(include=['number']).columns\n",
    "categorical_columns_demo = df_final_demo.select_dtypes(include=['object']).columns\n",
    "\n",
    "df_final_demo[numerical_columns_demo] = df_final_demo[numerical_columns_demo].fillna(df_final_demo[numerical_columns_demo].median())\n",
    "for column in categorical_columns_demo:\n",
    "    df_final_demo[column] = df_final_demo[column].fillna(df_final_demo[column].mode()[0])"
   ]
  },
  {
   "cell_type": "markdown",
   "metadata": {},
   "source": [
    "Cleaning process for df_final_experiment_clients"
   ]
  },
  {
   "cell_type": "code",
   "execution_count": 12,
   "metadata": {},
   "outputs": [],
   "source": [
    "# Data cleaning for df_final_experiment_clients\n",
    "df_final_experiment_clients = df_final_experiment_clients.drop_duplicates()\n",
    "numerical_columns_experiment = df_final_experiment_clients.select_dtypes(include=['number']).columns\n",
    "categorical_columns_experiment = df_final_experiment_clients.select_dtypes(include=['object']).columns\n",
    "\n",
    "df_final_experiment_clients[numerical_columns_experiment] = df_final_experiment_clients[numerical_columns_experiment].fillna(df_final_experiment_clients[numerical_columns_experiment].median())\n",
    "for column in categorical_columns_experiment:\n",
    "    df_final_experiment_clients[column] = df_final_experiment_clients[column].fillna(df_final_experiment_clients[column].mode()[0])\n"
   ]
  },
  {
   "cell_type": "markdown",
   "metadata": {},
   "source": [
    "Cleaning process for df_combined"
   ]
  },
  {
   "cell_type": "code",
   "execution_count": 13,
   "metadata": {},
   "outputs": [],
   "source": [
    "# Data cleaning for df_combined\n",
    "df_combined = df_combined.drop_duplicates()\n",
    "numerical_columns_combined = df_combined.select_dtypes(include=['number']).columns\n",
    "categorical_columns_combined = df_combined.select_dtypes(include=['object']).columns\n",
    "\n",
    "df_combined[numerical_columns_combined] = df_combined[numerical_columns_combined].fillna(df_combined[numerical_columns_combined].median())\n",
    "for column in categorical_columns_combined:\n",
    "    df_combined[column] = df_combined[column].fillna(df_combined[column].mode()[0])"
   ]
  },
  {
   "cell_type": "markdown",
   "metadata": {},
   "source": [
    "## Merge Clean Data "
   ]
  },
  {
   "cell_type": "code",
   "execution_count": 14,
   "metadata": {},
   "outputs": [],
   "source": [
    "df_final_demo = pd.read_csv(file_path_demo, sep=\",\")\n",
    "df_final_experiment_clients = pd.read_csv(file_path_experiment, sep=\",\")\n",
    "df_combined = pd.read_csv(output_path, sep=\",\")"
   ]
  },
  {
   "cell_type": "markdown",
   "metadata": {},
   "source": [
    "Check the columns in each DataFrame to ensure they are read correctly"
   ]
  },
  {
   "cell_type": "code",
   "execution_count": 15,
   "metadata": {},
   "outputs": [
    {
     "name": "stdout",
     "output_type": "stream",
     "text": [
      "Columns in df_final_demo:\n",
      "Index(['client_id', 'clnt_tenure_yr', 'clnt_tenure_mnth', 'clnt_age', 'gendr',\n",
      "       'num_accts', 'bal', 'calls_6_mnth', 'logons_6_mnth'],\n",
      "      dtype='object')\n",
      "Columns in df_final_experiment_clients:\n",
      "Index(['client_id', 'Variation'], dtype='object')\n",
      "Columns in df_combined:\n",
      "Index(['client_id', 'visitor_id', 'visit_id', 'process_step', 'date_time'], dtype='object')\n"
     ]
    }
   ],
   "source": [
    "# Verify columns\n",
    "print(\"Columns in df_final_demo:\")\n",
    "print(df_final_demo.columns)\n",
    "print(\"Columns in df_final_experiment_clients:\")\n",
    "print(df_final_experiment_clients.columns)\n",
    "print(\"Columns in df_combined:\")\n",
    "print(df_combined.columns)"
   ]
  },
  {
   "cell_type": "code",
   "execution_count": 16,
   "metadata": {},
   "outputs": [],
   "source": [
    "# Standardizing the column names\n",
    "df_final_demo.columns = df_final_demo.columns.str.strip().str.lower()\n",
    "df_final_experiment_clients.columns = df_final_experiment_clients.columns.str.strip().str.lower()\n",
    "df_combined.columns = df_combined.columns.str.strip().str.lower()\n",
    "\n"
   ]
  },
  {
   "cell_type": "code",
   "execution_count": 17,
   "metadata": {},
   "outputs": [
    {
     "name": "stdout",
     "output_type": "stream",
     "text": [
      "Columns in df_final_demo: True\n",
      "Columns in df_final_experiment_clients: True\n",
      "Columns in df_combined: True\n"
     ]
    }
   ],
   "source": [
    "# Check again for client_id\n",
    "print(\"Columns in df_final_demo:\", 'client_id' in df_final_demo.columns)\n",
    "print(\"Columns in df_final_experiment_clients:\", 'client_id' in df_final_experiment_clients.columns)\n",
    "print(\"Columns in df_combined:\", 'client_id' in df_combined.columns)"
   ]
  },
  {
   "cell_type": "code",
   "execution_count": 18,
   "metadata": {},
   "outputs": [],
   "source": [
    "# Merge dataframes\n",
    "merged_df = pd.merge(df_final_demo, df_final_experiment_clients, on='client_id', how='inner')\n",
    "merged_df = pd.merge(merged_df, df_combined, on='client_id', how='inner')"
   ]
  },
  {
   "cell_type": "code",
   "execution_count": 19,
   "metadata": {},
   "outputs": [
    {
     "name": "stdout",
     "output_type": "stream",
     "text": [
      "Merged DataFrame:\n",
      "   client_id  clnt_tenure_yr  clnt_tenure_mnth  clnt_age gendr  num_accts  \\\n",
      "0     836976             6.0              73.0      60.5     U        2.0   \n",
      "1     836976             6.0              73.0      60.5     U        2.0   \n",
      "2     836976             6.0              73.0      60.5     U        2.0   \n",
      "3     836976             6.0              73.0      60.5     U        2.0   \n",
      "4     836976             6.0              73.0      60.5     U        2.0   \n",
      "\n",
      "       bal  calls_6_mnth  logons_6_mnth variation            visitor_id  \\\n",
      "0  45105.3           6.0            9.0      Test  427070339_1413275162   \n",
      "1  45105.3           6.0            9.0      Test  427070339_1413275162   \n",
      "2  45105.3           6.0            9.0      Test  427070339_1413275162   \n",
      "3  45105.3           6.0            9.0      Test  427070339_1413275162   \n",
      "4  45105.3           6.0            9.0      Test  427070339_1413275162   \n",
      "\n",
      "                      visit_id process_step            date_time  \n",
      "0  228976764_46825473280_96584      confirm  2017-04-02 11:51:13  \n",
      "1  228976764_46825473280_96584      confirm  2017-04-02 11:47:50  \n",
      "2  228976764_46825473280_96584      confirm  2017-04-02 11:46:45  \n",
      "3  228976764_46825473280_96584       step_3  2017-04-02 11:23:08  \n",
      "4  228976764_46825473280_96584       step_2  2017-04-02 11:22:24  \n",
      "Index(['client_id', 'clnt_tenure_yr', 'clnt_tenure_mnth', 'clnt_age', 'gendr',\n",
      "       'num_accts', 'bal', 'calls_6_mnth', 'logons_6_mnth', 'variation',\n",
      "       'visitor_id', 'visit_id', 'process_step', 'date_time'],\n",
      "      dtype='object')\n"
     ]
    }
   ],
   "source": [
    "# Check the merged dataframe\n",
    "print(\"Merged DataFrame:\")\n",
    "print(merged_df.head())\n",
    "print(merged_df.columns)"
   ]
  },
  {
   "cell_type": "code",
   "execution_count": 20,
   "metadata": {},
   "outputs": [
    {
     "name": "stderr",
     "output_type": "stream",
     "text": [
      "/var/folders/f6/2h1ph12j6r9c8gpllh_52j940000gn/T/ipykernel_11385/4294861979.py:3: DtypeWarning: Columns (9) have mixed types. Specify dtype option on import or set low_memory=False.\n",
      "  merged_df = pd.read_csv('merged_df.csv')\n"
     ]
    },
    {
     "name": "stdout",
     "output_type": "stream",
     "text": [
      "Merged Data Columns:\n",
      "Index(['client_id', 'clnt_tenure_yr', 'clnt_tenure_mnth', 'clnt_age', 'gendr',\n",
      "       'num_accts', 'bal', 'calls_6_mnth', 'logons_6_mnth', 'variation',\n",
      "       'visitor_id', 'visit_id', 'process_step', 'date_time'],\n",
      "      dtype='object')\n",
      "Data Types:\n",
      "client_id             int64\n",
      "clnt_tenure_yr      float64\n",
      "clnt_tenure_mnth    float64\n",
      "clnt_age            float64\n",
      "gendr                object\n",
      "num_accts           float64\n",
      "bal                 float64\n",
      "calls_6_mnth        float64\n",
      "logons_6_mnth       float64\n",
      "variation            object\n",
      "visitor_id           object\n",
      "visit_id             object\n",
      "process_step         object\n",
      "date_time            object\n",
      "dtype: object\n",
      "Missing values:\n",
      "client_id                0\n",
      "clnt_tenure_yr         115\n",
      "clnt_tenure_mnth       115\n",
      "clnt_age               127\n",
      "gendr                  115\n",
      "num_accts              115\n",
      "bal                    115\n",
      "calls_6_mnth           115\n",
      "logons_6_mnth          115\n",
      "variation           128522\n",
      "visitor_id               0\n",
      "visit_id                 0\n",
      "process_step             0\n",
      "date_time                0\n",
      "dtype: int64\n"
     ]
    }
   ],
   "source": [
    "# Save the cleaned and merged data\n",
    "merged_df.to_csv('merged_df.csv', index=False)\n",
    "merged_df = pd.read_csv('merged_df.csv')\n",
    "print(\"Merged Data Columns:\")\n",
    "print(merged_df.columns)\n",
    "print(\"Data Types:\")\n",
    "print(merged_df.dtypes)\n",
    "print(\"Missing values:\")\n",
    "print(merged_df.isnull().sum())"
   ]
  },
  {
   "cell_type": "code",
   "execution_count": 21,
   "metadata": {},
   "outputs": [],
   "source": [
    "# Remove the incorrectly named column\n",
    "merged_df = merged_df.drop(columns=['client_id,visitor_id,visit_id,process_step,date_time'], errors='ignore')"
   ]
  },
  {
   "cell_type": "code",
   "execution_count": 22,
   "metadata": {},
   "outputs": [
    {
     "name": "stdout",
     "output_type": "stream",
     "text": [
      "Columns after removal:\n",
      "Index(['client_id', 'clnt_tenure_yr', 'clnt_tenure_mnth', 'clnt_age', 'gendr',\n",
      "       'num_accts', 'bal', 'calls_6_mnth', 'logons_6_mnth', 'variation',\n",
      "       'visitor_id', 'visit_id', 'process_step', 'date_time'],\n",
      "      dtype='object')\n"
     ]
    }
   ],
   "source": [
    "# Check if the 'variation' column exists and is correct\n",
    "print(\"Columns after removal:\")\n",
    "print(merged_df.columns)"
   ]
  },
  {
   "cell_type": "code",
   "execution_count": 23,
   "metadata": {},
   "outputs": [],
   "source": [
    "\n",
    "# Remove rows with missing values in the 'variation' column\n",
    "Clean_Data = merged_df.dropna(subset=['variation'])"
   ]
  },
  {
   "cell_type": "code",
   "execution_count": 24,
   "metadata": {},
   "outputs": [
    {
     "name": "stdout",
     "output_type": "stream",
     "text": [
      "Remaining missing values in 'variation': 0\n",
      "Remaining rows after removal: 321309\n"
     ]
    }
   ],
   "source": [
    "# Verify all missing values in 'variation' are removed\n",
    "remaining_missing_values_variation = Clean_Data['variation'].isnull().sum()\n",
    "remaining_rows = Clean_Data.shape[0]\n",
    "\n",
    "print(f\"Remaining missing values in 'variation': {remaining_missing_values_variation}\")\n",
    "print(f\"Remaining rows after removal: {remaining_rows}\")"
   ]
  },
  {
   "cell_type": "code",
   "execution_count": 25,
   "metadata": {},
   "outputs": [],
   "source": [
    "# Save the cleaned data\n",
    "Clean_Data.to_csv('Clean_Data.csv', index=False)\n"
   ]
  },
  {
   "cell_type": "code",
   "execution_count": 26,
   "metadata": {},
   "outputs": [
    {
     "name": "stdout",
     "output_type": "stream",
     "text": [
      "        client_id  clnt_tenure_yr  clnt_tenure_mnth  clnt_age gendr  \\\n",
      "0          836976             6.0              73.0      60.5     U   \n",
      "1          836976             6.0              73.0      60.5     U   \n",
      "2          836976             6.0              73.0      60.5     U   \n",
      "3          836976             6.0              73.0      60.5     U   \n",
      "4          836976             6.0              73.0      60.5     U   \n",
      "...           ...             ...               ...       ...   ...   \n",
      "321304    7468138            18.0             222.0      61.0     F   \n",
      "321305    7468138            18.0             222.0      61.0     F   \n",
      "321306    7468138            18.0             222.0      61.0     F   \n",
      "321307    7468138            18.0             222.0      61.0     F   \n",
      "321308    7468138            18.0             222.0      61.0     F   \n",
      "\n",
      "        num_accts        bal  calls_6_mnth  logons_6_mnth variation  \\\n",
      "0             2.0   45105.30           6.0            9.0      Test   \n",
      "1             2.0   45105.30           6.0            9.0      Test   \n",
      "2             2.0   45105.30           6.0            9.0      Test   \n",
      "3             2.0   45105.30           6.0            9.0      Test   \n",
      "4             2.0   45105.30           6.0            9.0      Test   \n",
      "...           ...        ...           ...            ...       ...   \n",
      "321304        3.0  209278.15           0.0            3.0      Test   \n",
      "321305        3.0  209278.15           0.0            3.0      Test   \n",
      "321306        3.0  209278.15           0.0            3.0      Test   \n",
      "321307        3.0  209278.15           0.0            3.0      Test   \n",
      "321308        3.0  209278.15           0.0            3.0      Test   \n",
      "\n",
      "                   visitor_id                      visit_id process_step  \\\n",
      "0        427070339_1413275162   228976764_46825473280_96584      confirm   \n",
      "1        427070339_1413275162   228976764_46825473280_96584      confirm   \n",
      "2        427070339_1413275162   228976764_46825473280_96584      confirm   \n",
      "3        427070339_1413275162   228976764_46825473280_96584       step_3   \n",
      "4        427070339_1413275162   228976764_46825473280_96584       step_2   \n",
      "...                       ...                           ...          ...   \n",
      "321304  317123960_46820919455  769876461_30381166055_830233       step_2   \n",
      "321305  317123960_46820919455  769876461_30381166055_830233       step_1   \n",
      "321306  317123960_46820919455  769876461_30381166055_830233        start   \n",
      "321307  317123960_46820919455  769876461_30381166055_830233        start   \n",
      "321308  317123960_46820919455  769876461_30381166055_830233        start   \n",
      "\n",
      "                  date_time  \n",
      "0       2017-04-02 11:51:13  \n",
      "1       2017-04-02 11:47:50  \n",
      "2       2017-04-02 11:46:45  \n",
      "3       2017-04-02 11:23:08  \n",
      "4       2017-04-02 11:22:24  \n",
      "...                     ...  \n",
      "321304  2017-03-30 23:59:15  \n",
      "321305  2017-03-30 23:58:51  \n",
      "321306  2017-03-30 23:58:40  \n",
      "321307  2017-03-30 23:55:11  \n",
      "321308  2017-03-31 00:16:12  \n",
      "\n",
      "[321309 rows x 14 columns]\n"
     ]
    }
   ],
   "source": [
    "print(Clean_Data)"
   ]
  },
  {
   "cell_type": "code",
   "execution_count": null,
   "metadata": {},
   "outputs": [],
   "source": []
  },
  {
   "cell_type": "markdown",
   "metadata": {},
   "source": [
    "# Here are the explanations of the individual columns in the Clean_Data\n",
    "\n",
    "***client_id:*** A unique identifier for each client. This ID is used to link and analyze data for the same client.\n",
    "\n",
    "***clnt_tenure_yr:*** The duration of the client's membership with Vanguard in years. This indicates how long the customer has been using Vanguard services.\n",
    "\n",
    "***clnt_tenure_mnth:*** The duration of the customer's membership with Vanguard in months. This complements the year to provide a more accurate duration of membership.\n",
    "\n",
    "***clnt_age:*** The age of the customer. This value can be used for demographic analysis to understand which age groups use Vanguard's services the most.\n",
    "\n",
    "***gendr:*** The gender of the customer. The values can be “M” (male), “F” (female), “U” (unknown) or “X” (unspecified). This column can be used for demographic analysis.\n",
    "\n",
    "***num_accts:*** The number of accounts the customer has with Vanguard. This can be an indicator of the intensity of the customer's use of Vanguard services.\n",
    "\n",
    "***bal:*** The total balance across all of the customer's accounts. This value can be used to analyze the customer's finances.\n",
    "\n",
    "***calls_6_mnth:*** The number of calls the customer has made to customer service in the last six months. This information can be used to analyze customer service needs.\n",
    "\n",
    "***logons_6_mnth:*** The number of times the customer has logged on to the Vanguard platform in the last six months. This number can be used to analyze the frequency of use of the online services.\n",
    "\n",
    "***variation:*** The group to which the customer was assigned in the A/B test. The values are either “Control” (control group with the old UI) or “Test” (test group with the new UI).\n",
    "\n",
    "***visitor_id:*** A unique identifier for each combination of customer and device that the customer has used. This ID helps to track and analyze individual visits.\n",
    "\n",
    "***visit_id:*** A unique identifier for each visit/session on the website. This ID is used to identify and analyze specific sessions.\n",
    "\n",
    "***process_step:*** The step in the digital process that the customer is in. This can include steps such as “step_1”, “step_2”, “step_3” and “confirm” (confirmation of completion). This column helps to track the customer's progress in the process.\n",
    "\n",
    "***date_time:*** The timestamp of when the customer performed a specific action on the website. This enables temporal analyses of customer behavior and usage habits."
   ]
  }
 ],
 "metadata": {
  "kernelspec": {
   "display_name": "base",
   "language": "python",
   "name": "python3"
  },
  "language_info": {
   "codemirror_mode": {
    "name": "ipython",
    "version": 3
   },
   "file_extension": ".py",
   "mimetype": "text/x-python",
   "name": "python",
   "nbconvert_exporter": "python",
   "pygments_lexer": "ipython3",
   "version": "3.11.7"
  }
 },
 "nbformat": 4,
 "nbformat_minor": 2
}
