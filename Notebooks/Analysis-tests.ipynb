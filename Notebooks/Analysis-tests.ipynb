{
 "cells": [
  {
   "cell_type": "markdown",
   "metadata": {},
   "source": [
    "# Analyse whether these changes lead to a better user experience and higher completion rates.\n"
   ]
  },
  {
   "cell_type": "markdown",
   "metadata": {},
   "source": [
    "### General cleanup of the four datasets, including:\n",
    "\n",
    "Reorganization to merge them based colums and rows we needed\n",
    "\n",
    "Ensuring the correct data types for all relevant columns\n",
    "\n",
    "Removing rows with missing values and duplicates.\n",
    "\n",
    "\n",
    "### Dataset's:\n",
    "\n",
    "Client Profiles (df_final_demo): This dataset includes customer details.\n",
    "\n",
    "Digital Footprints (df_final_web_data) pt_1 and pt_2: In these two Datasets are information about the digital traces of customers, which reflect their activities and interactions on the Internet.\n",
    "\n",
    "Experiment Roster (df_final_experiment_clients): the last dataset we find a list identifying the clients who participated in the grand experiment\n",
    "\n",
    "Combined to Clean_Data\n",
    "\n",
    "\n",
    "### Demographical Customeranalyse:\n",
    "\n",
    "1. Wer sind die Hauptkunden, die dieses Online-Verfahren nutzen?/ Who are the primary customers using this online process?\n",
    "\n",
    "2. Sind die Hauptkunden jünger oder älter, neu oder langjährig?/ Are the primary customers younger or older, new or long-standing?\n",
    "\n",
    "3. Wie oft melden sich die Kunden an und wie oft rufen sie an?/ The how often do customers log in and how often do they call?\n"
   ]
  },
  {
   "cell_type": "markdown",
   "metadata": {},
   "source": [
    "Uploading cleaned and merged dataset"
   ]
  },
  {
   "cell_type": "code",
   "execution_count": 77,
   "metadata": {},
   "outputs": [],
   "source": [
    "import pandas as pd\n",
    "import matplotlib.pyplot as plt\n",
    "import seaborn as sns\n",
    "import numpy as np\n",
    "from scipy.stats import norm"
   ]
  },
  {
   "cell_type": "code",
   "execution_count": 78,
   "metadata": {},
   "outputs": [],
   "source": [
    "Clean_Data = pd.read_csv('/Users/mishka/Documents/GitHub/Fifth-Project-EDA/Data/Clean_Data.csv')"
   ]
  },
  {
   "cell_type": "code",
   "execution_count": 79,
   "metadata": {},
   "outputs": [
    {
     "data": {
      "text/html": [
       "<div>\n",
       "<style scoped>\n",
       "    .dataframe tbody tr th:only-of-type {\n",
       "        vertical-align: middle;\n",
       "    }\n",
       "\n",
       "    .dataframe tbody tr th {\n",
       "        vertical-align: top;\n",
       "    }\n",
       "\n",
       "    .dataframe thead th {\n",
       "        text-align: right;\n",
       "    }\n",
       "</style>\n",
       "<table border=\"1\" class=\"dataframe\">\n",
       "  <thead>\n",
       "    <tr style=\"text-align: right;\">\n",
       "      <th></th>\n",
       "      <th>client_id</th>\n",
       "      <th>clnt_tenure_yr</th>\n",
       "      <th>clnt_tenure_mnth</th>\n",
       "      <th>clnt_age</th>\n",
       "      <th>gendr</th>\n",
       "      <th>num_accts</th>\n",
       "      <th>bal</th>\n",
       "      <th>calls_6_mnth</th>\n",
       "      <th>logons_6_mnth</th>\n",
       "      <th>variation</th>\n",
       "      <th>visitor_id</th>\n",
       "      <th>visit_id</th>\n",
       "      <th>process_step</th>\n",
       "      <th>date_time</th>\n",
       "    </tr>\n",
       "  </thead>\n",
       "  <tbody>\n",
       "    <tr>\n",
       "      <th>0</th>\n",
       "      <td>836976</td>\n",
       "      <td>6.0</td>\n",
       "      <td>73.0</td>\n",
       "      <td>60.5</td>\n",
       "      <td>U</td>\n",
       "      <td>2.0</td>\n",
       "      <td>45105.3</td>\n",
       "      <td>6.0</td>\n",
       "      <td>9.0</td>\n",
       "      <td>Test</td>\n",
       "      <td>427070339_1413275162</td>\n",
       "      <td>228976764_46825473280_96584</td>\n",
       "      <td>confirm</td>\n",
       "      <td>2017-04-02 11:51:13</td>\n",
       "    </tr>\n",
       "    <tr>\n",
       "      <th>1</th>\n",
       "      <td>836976</td>\n",
       "      <td>6.0</td>\n",
       "      <td>73.0</td>\n",
       "      <td>60.5</td>\n",
       "      <td>U</td>\n",
       "      <td>2.0</td>\n",
       "      <td>45105.3</td>\n",
       "      <td>6.0</td>\n",
       "      <td>9.0</td>\n",
       "      <td>Test</td>\n",
       "      <td>427070339_1413275162</td>\n",
       "      <td>228976764_46825473280_96584</td>\n",
       "      <td>confirm</td>\n",
       "      <td>2017-04-02 11:47:50</td>\n",
       "    </tr>\n",
       "    <tr>\n",
       "      <th>2</th>\n",
       "      <td>836976</td>\n",
       "      <td>6.0</td>\n",
       "      <td>73.0</td>\n",
       "      <td>60.5</td>\n",
       "      <td>U</td>\n",
       "      <td>2.0</td>\n",
       "      <td>45105.3</td>\n",
       "      <td>6.0</td>\n",
       "      <td>9.0</td>\n",
       "      <td>Test</td>\n",
       "      <td>427070339_1413275162</td>\n",
       "      <td>228976764_46825473280_96584</td>\n",
       "      <td>confirm</td>\n",
       "      <td>2017-04-02 11:46:45</td>\n",
       "    </tr>\n",
       "    <tr>\n",
       "      <th>3</th>\n",
       "      <td>836976</td>\n",
       "      <td>6.0</td>\n",
       "      <td>73.0</td>\n",
       "      <td>60.5</td>\n",
       "      <td>U</td>\n",
       "      <td>2.0</td>\n",
       "      <td>45105.3</td>\n",
       "      <td>6.0</td>\n",
       "      <td>9.0</td>\n",
       "      <td>Test</td>\n",
       "      <td>427070339_1413275162</td>\n",
       "      <td>228976764_46825473280_96584</td>\n",
       "      <td>step_3</td>\n",
       "      <td>2017-04-02 11:23:08</td>\n",
       "    </tr>\n",
       "    <tr>\n",
       "      <th>4</th>\n",
       "      <td>836976</td>\n",
       "      <td>6.0</td>\n",
       "      <td>73.0</td>\n",
       "      <td>60.5</td>\n",
       "      <td>U</td>\n",
       "      <td>2.0</td>\n",
       "      <td>45105.3</td>\n",
       "      <td>6.0</td>\n",
       "      <td>9.0</td>\n",
       "      <td>Test</td>\n",
       "      <td>427070339_1413275162</td>\n",
       "      <td>228976764_46825473280_96584</td>\n",
       "      <td>step_2</td>\n",
       "      <td>2017-04-02 11:22:24</td>\n",
       "    </tr>\n",
       "    <tr>\n",
       "      <th>5</th>\n",
       "      <td>836976</td>\n",
       "      <td>6.0</td>\n",
       "      <td>73.0</td>\n",
       "      <td>60.5</td>\n",
       "      <td>U</td>\n",
       "      <td>2.0</td>\n",
       "      <td>45105.3</td>\n",
       "      <td>6.0</td>\n",
       "      <td>9.0</td>\n",
       "      <td>Test</td>\n",
       "      <td>427070339_1413275162</td>\n",
       "      <td>228976764_46825473280_96584</td>\n",
       "      <td>step_1</td>\n",
       "      <td>2017-04-02 11:21:38</td>\n",
       "    </tr>\n",
       "    <tr>\n",
       "      <th>6</th>\n",
       "      <td>836976</td>\n",
       "      <td>6.0</td>\n",
       "      <td>73.0</td>\n",
       "      <td>60.5</td>\n",
       "      <td>U</td>\n",
       "      <td>2.0</td>\n",
       "      <td>45105.3</td>\n",
       "      <td>6.0</td>\n",
       "      <td>9.0</td>\n",
       "      <td>Test</td>\n",
       "      <td>427070339_1413275162</td>\n",
       "      <td>228976764_46825473280_96584</td>\n",
       "      <td>start</td>\n",
       "      <td>2017-04-02 11:21:28</td>\n",
       "    </tr>\n",
       "    <tr>\n",
       "      <th>7</th>\n",
       "      <td>836976</td>\n",
       "      <td>6.0</td>\n",
       "      <td>73.0</td>\n",
       "      <td>60.5</td>\n",
       "      <td>U</td>\n",
       "      <td>2.0</td>\n",
       "      <td>45105.3</td>\n",
       "      <td>6.0</td>\n",
       "      <td>9.0</td>\n",
       "      <td>Test</td>\n",
       "      <td>427070339_1413275162</td>\n",
       "      <td>104438405_2368283624_817211</td>\n",
       "      <td>start</td>\n",
       "      <td>2017-03-29 11:02:44</td>\n",
       "    </tr>\n",
       "    <tr>\n",
       "      <th>8</th>\n",
       "      <td>836976</td>\n",
       "      <td>6.0</td>\n",
       "      <td>73.0</td>\n",
       "      <td>60.5</td>\n",
       "      <td>U</td>\n",
       "      <td>2.0</td>\n",
       "      <td>45105.3</td>\n",
       "      <td>6.0</td>\n",
       "      <td>9.0</td>\n",
       "      <td>Test</td>\n",
       "      <td>427070339_1413275162</td>\n",
       "      <td>104438405_2368283624_817211</td>\n",
       "      <td>start</td>\n",
       "      <td>2017-03-29 11:01:40</td>\n",
       "    </tr>\n",
       "    <tr>\n",
       "      <th>9</th>\n",
       "      <td>836976</td>\n",
       "      <td>6.0</td>\n",
       "      <td>73.0</td>\n",
       "      <td>60.5</td>\n",
       "      <td>U</td>\n",
       "      <td>2.0</td>\n",
       "      <td>45105.3</td>\n",
       "      <td>6.0</td>\n",
       "      <td>9.0</td>\n",
       "      <td>Test</td>\n",
       "      <td>427070339_1413275162</td>\n",
       "      <td>104438405_2368283624_817211</td>\n",
       "      <td>start</td>\n",
       "      <td>2017-03-29 10:59:43</td>\n",
       "    </tr>\n",
       "    <tr>\n",
       "      <th>10</th>\n",
       "      <td>836976</td>\n",
       "      <td>6.0</td>\n",
       "      <td>73.0</td>\n",
       "      <td>60.5</td>\n",
       "      <td>U</td>\n",
       "      <td>2.0</td>\n",
       "      <td>45105.3</td>\n",
       "      <td>6.0</td>\n",
       "      <td>9.0</td>\n",
       "      <td>Test</td>\n",
       "      <td>427070339_1413275162</td>\n",
       "      <td>104438405_2368283624_817211</td>\n",
       "      <td>start</td>\n",
       "      <td>2017-03-29 10:58:35</td>\n",
       "    </tr>\n",
       "    <tr>\n",
       "      <th>11</th>\n",
       "      <td>2304905</td>\n",
       "      <td>7.0</td>\n",
       "      <td>94.0</td>\n",
       "      <td>58.0</td>\n",
       "      <td>U</td>\n",
       "      <td>2.0</td>\n",
       "      <td>110860.3</td>\n",
       "      <td>6.0</td>\n",
       "      <td>9.0</td>\n",
       "      <td>Control</td>\n",
       "      <td>336210275_56978226960</td>\n",
       "      <td>724930510_65323235593_692754</td>\n",
       "      <td>confirm</td>\n",
       "      <td>2017-05-21 11:07:16</td>\n",
       "    </tr>\n",
       "    <tr>\n",
       "      <th>12</th>\n",
       "      <td>2304905</td>\n",
       "      <td>7.0</td>\n",
       "      <td>94.0</td>\n",
       "      <td>58.0</td>\n",
       "      <td>U</td>\n",
       "      <td>2.0</td>\n",
       "      <td>110860.3</td>\n",
       "      <td>6.0</td>\n",
       "      <td>9.0</td>\n",
       "      <td>Control</td>\n",
       "      <td>336210275_56978226960</td>\n",
       "      <td>724930510_65323235593_692754</td>\n",
       "      <td>step_3</td>\n",
       "      <td>2017-05-21 11:04:53</td>\n",
       "    </tr>\n",
       "    <tr>\n",
       "      <th>13</th>\n",
       "      <td>2304905</td>\n",
       "      <td>7.0</td>\n",
       "      <td>94.0</td>\n",
       "      <td>58.0</td>\n",
       "      <td>U</td>\n",
       "      <td>2.0</td>\n",
       "      <td>110860.3</td>\n",
       "      <td>6.0</td>\n",
       "      <td>9.0</td>\n",
       "      <td>Control</td>\n",
       "      <td>336210275_56978226960</td>\n",
       "      <td>724930510_65323235593_692754</td>\n",
       "      <td>step_2</td>\n",
       "      <td>2017-05-21 11:04:04</td>\n",
       "    </tr>\n",
       "    <tr>\n",
       "      <th>14</th>\n",
       "      <td>2304905</td>\n",
       "      <td>7.0</td>\n",
       "      <td>94.0</td>\n",
       "      <td>58.0</td>\n",
       "      <td>U</td>\n",
       "      <td>2.0</td>\n",
       "      <td>110860.3</td>\n",
       "      <td>6.0</td>\n",
       "      <td>9.0</td>\n",
       "      <td>Control</td>\n",
       "      <td>336210275_56978226960</td>\n",
       "      <td>724930510_65323235593_692754</td>\n",
       "      <td>step_1</td>\n",
       "      <td>2017-05-21 11:03:31</td>\n",
       "    </tr>\n",
       "  </tbody>\n",
       "</table>\n",
       "</div>"
      ],
      "text/plain": [
       "    client_id  clnt_tenure_yr  clnt_tenure_mnth  clnt_age gendr  num_accts  \\\n",
       "0      836976             6.0              73.0      60.5     U        2.0   \n",
       "1      836976             6.0              73.0      60.5     U        2.0   \n",
       "2      836976             6.0              73.0      60.5     U        2.0   \n",
       "3      836976             6.0              73.0      60.5     U        2.0   \n",
       "4      836976             6.0              73.0      60.5     U        2.0   \n",
       "5      836976             6.0              73.0      60.5     U        2.0   \n",
       "6      836976             6.0              73.0      60.5     U        2.0   \n",
       "7      836976             6.0              73.0      60.5     U        2.0   \n",
       "8      836976             6.0              73.0      60.5     U        2.0   \n",
       "9      836976             6.0              73.0      60.5     U        2.0   \n",
       "10     836976             6.0              73.0      60.5     U        2.0   \n",
       "11    2304905             7.0              94.0      58.0     U        2.0   \n",
       "12    2304905             7.0              94.0      58.0     U        2.0   \n",
       "13    2304905             7.0              94.0      58.0     U        2.0   \n",
       "14    2304905             7.0              94.0      58.0     U        2.0   \n",
       "\n",
       "         bal  calls_6_mnth  logons_6_mnth variation             visitor_id  \\\n",
       "0    45105.3           6.0            9.0      Test   427070339_1413275162   \n",
       "1    45105.3           6.0            9.0      Test   427070339_1413275162   \n",
       "2    45105.3           6.0            9.0      Test   427070339_1413275162   \n",
       "3    45105.3           6.0            9.0      Test   427070339_1413275162   \n",
       "4    45105.3           6.0            9.0      Test   427070339_1413275162   \n",
       "5    45105.3           6.0            9.0      Test   427070339_1413275162   \n",
       "6    45105.3           6.0            9.0      Test   427070339_1413275162   \n",
       "7    45105.3           6.0            9.0      Test   427070339_1413275162   \n",
       "8    45105.3           6.0            9.0      Test   427070339_1413275162   \n",
       "9    45105.3           6.0            9.0      Test   427070339_1413275162   \n",
       "10   45105.3           6.0            9.0      Test   427070339_1413275162   \n",
       "11  110860.3           6.0            9.0   Control  336210275_56978226960   \n",
       "12  110860.3           6.0            9.0   Control  336210275_56978226960   \n",
       "13  110860.3           6.0            9.0   Control  336210275_56978226960   \n",
       "14  110860.3           6.0            9.0   Control  336210275_56978226960   \n",
       "\n",
       "                        visit_id process_step            date_time  \n",
       "0    228976764_46825473280_96584      confirm  2017-04-02 11:51:13  \n",
       "1    228976764_46825473280_96584      confirm  2017-04-02 11:47:50  \n",
       "2    228976764_46825473280_96584      confirm  2017-04-02 11:46:45  \n",
       "3    228976764_46825473280_96584       step_3  2017-04-02 11:23:08  \n",
       "4    228976764_46825473280_96584       step_2  2017-04-02 11:22:24  \n",
       "5    228976764_46825473280_96584       step_1  2017-04-02 11:21:38  \n",
       "6    228976764_46825473280_96584        start  2017-04-02 11:21:28  \n",
       "7    104438405_2368283624_817211        start  2017-03-29 11:02:44  \n",
       "8    104438405_2368283624_817211        start  2017-03-29 11:01:40  \n",
       "9    104438405_2368283624_817211        start  2017-03-29 10:59:43  \n",
       "10   104438405_2368283624_817211        start  2017-03-29 10:58:35  \n",
       "11  724930510_65323235593_692754      confirm  2017-05-21 11:07:16  \n",
       "12  724930510_65323235593_692754       step_3  2017-05-21 11:04:53  \n",
       "13  724930510_65323235593_692754       step_2  2017-05-21 11:04:04  \n",
       "14  724930510_65323235593_692754       step_1  2017-05-21 11:03:31  "
      ]
     },
     "execution_count": 79,
     "metadata": {},
     "output_type": "execute_result"
    }
   ],
   "source": [
    "Clean_Data.head(15)"
   ]
  },
  {
   "cell_type": "code",
   "execution_count": 80,
   "metadata": {},
   "outputs": [
    {
     "name": "stdout",
     "output_type": "stream",
     "text": [
      "<class 'pandas.core.frame.DataFrame'>\n",
      "RangeIndex: 321309 entries, 0 to 321308\n",
      "Data columns (total 14 columns):\n",
      " #   Column            Non-Null Count   Dtype  \n",
      "---  ------            --------------   -----  \n",
      " 0   client_id         321309 non-null  int64  \n",
      " 1   clnt_tenure_yr    321207 non-null  float64\n",
      " 2   clnt_tenure_mnth  321207 non-null  float64\n",
      " 3   clnt_age          321195 non-null  float64\n",
      " 4   gendr             321207 non-null  object \n",
      " 5   num_accts         321207 non-null  float64\n",
      " 6   bal               321207 non-null  float64\n",
      " 7   calls_6_mnth      321207 non-null  float64\n",
      " 8   logons_6_mnth     321207 non-null  float64\n",
      " 9   variation         321309 non-null  object \n",
      " 10  visitor_id        321309 non-null  object \n",
      " 11  visit_id          321309 non-null  object \n",
      " 12  process_step      321309 non-null  object \n",
      " 13  date_time         321309 non-null  object \n",
      "dtypes: float64(7), int64(1), object(6)\n",
      "memory usage: 34.3+ MB\n"
     ]
    }
   ],
   "source": [
    "Clean_Data.info()"
   ]
  },
  {
   "cell_type": "code",
   "execution_count": 81,
   "metadata": {},
   "outputs": [
    {
     "name": "stdout",
     "output_type": "stream",
     "text": [
      "Index(['client_id', 'clnt_tenure_yr', 'clnt_tenure_mnth', 'clnt_age', 'gendr',\n",
      "       'num_accts', 'bal', 'calls_6_mnth', 'logons_6_mnth', 'variation',\n",
      "       'visitor_id', 'visit_id', 'process_step', 'date_time'],\n",
      "      dtype='object')\n"
     ]
    }
   ],
   "source": [
    "print(Clean_Data.columns)"
   ]
  },
  {
   "cell_type": "code",
   "execution_count": 82,
   "metadata": {},
   "outputs": [
    {
     "data": {
      "text/html": [
       "<div>\n",
       "<style scoped>\n",
       "    .dataframe tbody tr th:only-of-type {\n",
       "        vertical-align: middle;\n",
       "    }\n",
       "\n",
       "    .dataframe tbody tr th {\n",
       "        vertical-align: top;\n",
       "    }\n",
       "\n",
       "    .dataframe thead th {\n",
       "        text-align: right;\n",
       "    }\n",
       "</style>\n",
       "<table border=\"1\" class=\"dataframe\">\n",
       "  <thead>\n",
       "    <tr style=\"text-align: right;\">\n",
       "      <th></th>\n",
       "      <th>client_id</th>\n",
       "      <th>clnt_tenure_yr</th>\n",
       "      <th>clnt_tenure_mnth</th>\n",
       "      <th>clnt_age</th>\n",
       "      <th>num_accts</th>\n",
       "      <th>bal</th>\n",
       "      <th>calls_6_mnth</th>\n",
       "      <th>logons_6_mnth</th>\n",
       "    </tr>\n",
       "  </thead>\n",
       "  <tbody>\n",
       "    <tr>\n",
       "      <th>count</th>\n",
       "      <td>3.213090e+05</td>\n",
       "      <td>321207.000000</td>\n",
       "      <td>321207.000000</td>\n",
       "      <td>321195.000000</td>\n",
       "      <td>321207.000000</td>\n",
       "      <td>3.212070e+05</td>\n",
       "      <td>321207.000000</td>\n",
       "      <td>321207.000000</td>\n",
       "    </tr>\n",
       "    <tr>\n",
       "      <th>mean</th>\n",
       "      <td>5.009769e+06</td>\n",
       "      <td>12.176372</td>\n",
       "      <td>152.133095</td>\n",
       "      <td>48.553511</td>\n",
       "      <td>2.262952</td>\n",
       "      <td>1.622097e+05</td>\n",
       "      <td>3.236863</td>\n",
       "      <td>6.275109</td>\n",
       "    </tr>\n",
       "    <tr>\n",
       "      <th>std</th>\n",
       "      <td>2.872630e+06</td>\n",
       "      <td>6.963097</td>\n",
       "      <td>83.209386</td>\n",
       "      <td>15.645588</td>\n",
       "      <td>0.541528</td>\n",
       "      <td>3.494719e+05</td>\n",
       "      <td>2.193654</td>\n",
       "      <td>2.179721</td>\n",
       "    </tr>\n",
       "    <tr>\n",
       "      <th>min</th>\n",
       "      <td>5.550000e+02</td>\n",
       "      <td>2.000000</td>\n",
       "      <td>33.000000</td>\n",
       "      <td>17.000000</td>\n",
       "      <td>1.000000</td>\n",
       "      <td>2.378944e+04</td>\n",
       "      <td>0.000000</td>\n",
       "      <td>3.000000</td>\n",
       "    </tr>\n",
       "    <tr>\n",
       "      <th>25%</th>\n",
       "      <td>2.514553e+06</td>\n",
       "      <td>6.000000</td>\n",
       "      <td>82.000000</td>\n",
       "      <td>34.500000</td>\n",
       "      <td>2.000000</td>\n",
       "      <td>4.105887e+04</td>\n",
       "      <td>1.000000</td>\n",
       "      <td>4.000000</td>\n",
       "    </tr>\n",
       "    <tr>\n",
       "      <th>50%</th>\n",
       "      <td>5.052088e+06</td>\n",
       "      <td>11.000000</td>\n",
       "      <td>138.000000</td>\n",
       "      <td>50.000000</td>\n",
       "      <td>2.000000</td>\n",
       "      <td>6.924049e+04</td>\n",
       "      <td>3.000000</td>\n",
       "      <td>6.000000</td>\n",
       "    </tr>\n",
       "    <tr>\n",
       "      <th>75%</th>\n",
       "      <td>7.468402e+06</td>\n",
       "      <td>16.000000</td>\n",
       "      <td>193.000000</td>\n",
       "      <td>61.000000</td>\n",
       "      <td>2.000000</td>\n",
       "      <td>1.514930e+05</td>\n",
       "      <td>6.000000</td>\n",
       "      <td>9.000000</td>\n",
       "    </tr>\n",
       "    <tr>\n",
       "      <th>max</th>\n",
       "      <td>9.999832e+06</td>\n",
       "      <td>55.000000</td>\n",
       "      <td>669.000000</td>\n",
       "      <td>96.000000</td>\n",
       "      <td>7.000000</td>\n",
       "      <td>1.632004e+07</td>\n",
       "      <td>6.000000</td>\n",
       "      <td>9.000000</td>\n",
       "    </tr>\n",
       "  </tbody>\n",
       "</table>\n",
       "</div>"
      ],
      "text/plain": [
       "          client_id  clnt_tenure_yr  clnt_tenure_mnth       clnt_age  \\\n",
       "count  3.213090e+05   321207.000000     321207.000000  321195.000000   \n",
       "mean   5.009769e+06       12.176372        152.133095      48.553511   \n",
       "std    2.872630e+06        6.963097         83.209386      15.645588   \n",
       "min    5.550000e+02        2.000000         33.000000      17.000000   \n",
       "25%    2.514553e+06        6.000000         82.000000      34.500000   \n",
       "50%    5.052088e+06       11.000000        138.000000      50.000000   \n",
       "75%    7.468402e+06       16.000000        193.000000      61.000000   \n",
       "max    9.999832e+06       55.000000        669.000000      96.000000   \n",
       "\n",
       "           num_accts           bal   calls_6_mnth  logons_6_mnth  \n",
       "count  321207.000000  3.212070e+05  321207.000000  321207.000000  \n",
       "mean        2.262952  1.622097e+05       3.236863       6.275109  \n",
       "std         0.541528  3.494719e+05       2.193654       2.179721  \n",
       "min         1.000000  2.378944e+04       0.000000       3.000000  \n",
       "25%         2.000000  4.105887e+04       1.000000       4.000000  \n",
       "50%         2.000000  6.924049e+04       3.000000       6.000000  \n",
       "75%         2.000000  1.514930e+05       6.000000       9.000000  \n",
       "max         7.000000  1.632004e+07       6.000000       9.000000  "
      ]
     },
     "execution_count": 82,
     "metadata": {},
     "output_type": "execute_result"
    }
   ],
   "source": [
    "Clean_Data.describe()"
   ]
  },
  {
   "cell_type": "markdown",
   "metadata": {},
   "source": [
    "## Demografische Analyse Altersverteilung der Kunden /Age distribution of customers "
   ]
  },
  {
   "cell_type": "markdown",
   "metadata": {},
   "source": [
    "**Age:** \n",
    "\n",
    "The age distribution shows that most customers are between 20 and 50 years old, with a peak around the 30s. This indicates that the primary customers tend to be young to middle-aged adults."
   ]
  },
  {
   "cell_type": "code",
   "execution_count": 83,
   "metadata": {},
   "outputs": [
    {
     "data": {
      "image/png": "[encoded data removed]",
      "text/plain": [
       "<Figure size 1000x600 with 1 Axes>"
      ]
     },
     "metadata": {},
     "output_type": "display_data"
    }
   ],
   "source": [
    "# Define thresholds for younger and older clients, and for new and long-standing clients\n",
    "younger_clients = Clean_Data[Clean_Data['clnt_age'] < 40]\n",
    "older_clients = Clean_Data[Clean_Data['clnt_age'] >= 40]\n",
    "\n",
    "new_clients = Clean_Data[Clean_Data['clnt_tenure_yr'] < 5]\n",
    "long_standing_clients = Clean_Data[Clean_Data['clnt_tenure_yr'] >= 5]\n",
    "\n",
    "# Plotting the age distribution for younger vs older clients\n",
    "plt.figure(figsize=(10, 6))\n",
    "sns.histplot(younger_clients['clnt_age'], kde=True, color='blue', label='Younger Clients')\n",
    "sns.histplot(older_clients['clnt_age'], kde=True, color='red', label='Older Clients')\n",
    "plt.title('Age Distribution: Younger vs Older Clients')\n",
    "plt.xlabel('Client Age')\n",
    "plt.ylabel('Frequency')\n",
    "plt.legend()\n",
    "plt.grid(True)\n",
    "plt.show()\n",
    "\n"
   ]
  },
  {
   "cell_type": "markdown",
   "metadata": {},
   "source": [
    "## Geschlechterverteilung der Kunden/ Gender distribution of customers"
   ]
  },
  {
   "cell_type": "markdown",
   "metadata": {},
   "source": [
    "**Gender:** \n",
    "\n",
    "The gender distribution is fairly evenly split between “M” (male) and “F” (female), but there are also a significant number of “U” (unknown) and few “X” (unspecified). This indicates that the system may not always correctly record the gender of users.\n",
    "Membership duration: Most customers have a membership duration of 5 to 15 years, with peaks at around 6 and 12 years. This indicates that the primary customers are medium to long-term users of the service."
   ]
  },
  {
   "cell_type": "code",
   "execution_count": 84,
   "metadata": {},
   "outputs": [
    {
     "name": "stderr",
     "output_type": "stream",
     "text": [
      "/var/folders/f6/2h1ph12j6r9c8gpllh_52j940000gn/T/ipykernel_5635/469738304.py:3: FutureWarning: \n",
      "\n",
      "Passing `palette` without assigning `hue` is deprecated and will be removed in v0.14.0. Assign the `x` variable to `hue` and set `legend=False` for the same effect.\n",
      "\n",
      "  sns.boxenplot(\n"
     ]
    },
    {
     "data": {
      "image/png": "[encoded data removed]",
      "text/plain": [
       "<Figure size 1400x700 with 1 Axes>"
      ]
     },
     "metadata": {},
     "output_type": "display_data"
    }
   ],
   "source": [
    "# Boxenplot for client gender\n",
    "plt.figure(figsize=(14, 7))\n",
    "sns.boxenplot(\n",
    "    data=Clean_Data, x=\"gendr\", y=\"clnt_tenure_yr\",\n",
    "    palette='Set1'\n",
    ")\n",
    "plt.title('Client Tenure Distribution by Gender')\n",
    "plt.xlabel('Gender')\n",
    "plt.ylabel('Tenure (Years)')\n",
    "plt.xticks(rotation=45, fontsize=10)\n",
    "plt.yticks(fontsize=10)\n",
    "plt.show()"
   ]
  },
  {
   "cell_type": "markdown",
   "metadata": {},
   "source": [
    "## Verteilung der Kunden nach Zugehörigkeitsdauer/ Distribution of customers by length of affiliation"
   ]
  },
  {
   "cell_type": "markdown",
   "metadata": {},
   "source": [
    "***New or long-term:***\n",
    "\n",
    " Primary customers have a medium to long-term affiliation, as can be seen from the distribution of the length of affiliation."
   ]
  },
  {
   "cell_type": "code",
   "execution_count": 85,
   "metadata": {},
   "outputs": [
    {
     "data": {
      "image/png": "[encoded data removed]",
      "text/plain": [
       "<Figure size 1000x600 with 1 Axes>"
      ]
     },
     "metadata": {},
     "output_type": "display_data"
    }
   ],
   "source": [
    "# Plotting the account age distribution for new vs long-standing clients\n",
    "plt.figure(figsize=(10, 6))\n",
    "sns.histplot(new_clients['clnt_tenure_yr'], kde=True, color='green', label='New Clients')\n",
    "sns.histplot(long_standing_clients['clnt_tenure_yr'], kde=True, color='purple', label='Long-Standing Clients')\n",
    "plt.title('Account Age Distribution: New vs Long-Standing Clients')\n",
    "plt.xlabel('Client Tenure (Years)')\n",
    "plt.ylabel('Frequency')\n",
    "plt.legend()\n",
    "plt.grid(True)\n",
    "plt.show()\n"
   ]
  },
  {
   "cell_type": "markdown",
   "metadata": {},
   "source": [
    "## Verhaltensanalyse der Kunden / Behavioral analysis of customers"
   ]
  },
  {
   "cell_type": "markdown",
   "metadata": {},
   "source": [
    "**Logins:**\n",
    "\n",
    "The distribution of logins shows that most customers have logged in between 1 and 9 times in the last 6 months, with a clear peak at 9 logins. This indicates that most customers use the platform regularly, but not excessively often.\n"
   ]
  },
  {
   "cell_type": "code",
   "execution_count": 86,
   "metadata": {},
   "outputs": [
    {
     "data": {
      "image/png": "[encoded data removed]",
      "text/plain": [
       "<Figure size 1000x600 with 1 Axes>"
      ]
     },
     "metadata": {},
     "output_type": "display_data"
    }
   ],
   "source": [
    "# Data for the step plot\n",
    "logins = Clean_Data['logons_6_mnth'].value_counts().sort_index()\n",
    "cumulative_logins = logins.cumsum()\n",
    "\n",
    "# Plotting the step plot\n",
    "plt.figure(figsize=(10, 6))\n",
    "plt.step(cumulative_logins.index, cumulative_logins, where='mid', color='green')\n",
    "plt.title('Cumulative Number of Logins in the Last 6 Months')\n",
    "plt.xlabel('Number of Logins')\n",
    "plt.ylabel('Cumulative Frequency')\n",
    "plt.grid(True)\n",
    "plt.show()"
   ]
  },
  {
   "cell_type": "markdown",
   "metadata": {},
   "source": [
    "**Calls:**\n",
    "\n",
    "The distribution of calls shows that most customers have called customer service between 1 to 6 times in the last 6 months, with a peak at 6 calls. This indicates that customers use customer service relatively frequently."
   ]
  },
  {
   "cell_type": "code",
   "execution_count": 87,
   "metadata": {},
   "outputs": [
    {
     "data": {
      "image/png": "[encoded data removed]",
      "text/plain": [
       "<Figure size 1000x600 with 1 Axes>"
      ]
     },
     "metadata": {},
     "output_type": "display_data"
    }
   ],
   "source": [
    "calls = Clean_Data['calls_6_mnth'].value_counts().sort_index()\n",
    "\n",
    "# Plotting the time series-like plot (or trend plot)\n",
    "plt.figure(figsize=(10, 6))\n",
    "plt.plot(calls.index, calls, marker='o', color='orange')\n",
    "plt.title('Frequency of Calls in the Last 6 Months')\n",
    "plt.xlabel('Number of Calls')\n",
    "plt.ylabel('Frequency')\n",
    "plt.grid(True)\n",
    "plt.show()"
   ]
  },
  {
   "cell_type": "markdown",
   "metadata": {},
   "source": [
    "# Conclusions of Customer Analysis: \n",
    "\n",
    "\n",
    " ## Demographic Analysis\n",
    "\n",
    "### Primary Customers' Age Distribution:\n",
    "\n",
    "Most customers are between 20 and 50 years old, with a peak around the 30s. This indicates that the primary users of the online process are young to middle-aged adults.\n",
    "\n",
    "\n",
    "### Gender Distribution:\n",
    "\n",
    "The gender distribution is fairly even between males and females, with a significant number of entries marked as \"Unknown\" or \"Unspecified.\" \n",
    "This suggests potential issues with recording or collecting gender information.\n",
    "\n",
    "### Customer Tenure:\n",
    "\n",
    "The majority of customers have been with the service for 5 to 15 years, indicating a base of medium to long-term users.\n",
    "Behavioral Analysis\n",
    "\n",
    "### Login Frequency:\n",
    "\n",
    "Most customers have logged in between 1 and 9 times in the last 6 months, with a peak at 9 logins. This suggests regular but not excessive use of the platform.\n",
    "\n",
    "### Call Frequency:\n",
    "\n",
    "Most customers have called customer service between 1 to 6 times in the last 6 months, with a peak at 6 calls. This indicates a relatively frequent use of customer service."
   ]
  },
  {
   "cell_type": "markdown",
   "metadata": {},
   "source": [
    "# Hypotheses test's"
   ]
  },
  {
   "cell_type": "markdown",
   "metadata": {},
   "source": [
    "Used Data: process_step und client_id from Clean_Data.csv\n",
    "\n",
    "\n",
    "## 1. Hypothese zur Abschlussrate:\n",
    "\n",
    "H0 (Nullhypothese): Es gibt keinen signifikanten Unterschied in der Abschlussrate zwischen der neuen und der alten Benutzeroberfläche.\n",
    "\n",
    "H1 (Alternativhypothese): Die Abschlussrate ist bei der neuen Benutzeroberfläche signifikant höher.\n",
    "\n",
    "## 1.Hypothesis on the completion rate:\n",
    "\n",
    "H0 (null hypothesis): There is no significant difference in the completion rate between the new and old user interface.\n",
    "\n",
    "H1 (alternative hypothesis): The completion rate is significantly higher with the new user interface."
   ]
  },
  {
   "cell_type": "code",
   "execution_count": 88,
   "metadata": {},
   "outputs": [
    {
     "name": "stdout",
     "output_type": "stream",
     "text": [
      "Index(['client_id', 'clnt_tenure_yr', 'clnt_tenure_mnth', 'clnt_age', 'gendr',\n",
      "       'num_accts', 'bal', 'calls_6_mnth', 'logons_6_mnth', 'variation',\n",
      "       'visitor_id', 'visit_id', 'process_step', 'date_time'],\n",
      "      dtype='object')\n"
     ]
    }
   ],
   "source": [
    "print(Clean_Data.columns)\n"
   ]
  },
  {
   "cell_type": "code",
   "execution_count": 89,
   "metadata": {},
   "outputs": [],
   "source": [
    "from scipy.stats import chi2_contingency\n",
    "\n",
    "# Laden der hochgeladenen Datei/ Data Preparation\n",
    "clean_data_path = \"/Users/mishka/Documents/GitHub/Fifth-Project-EDA/Data/Clean_Data.csv\"\n",
    "Clean_Data = pd.read_csv(clean_data_path)\n",
    "\n",
    "# Berechnung der Abschlussraten in der Kontroll- und Testgruppe/ Calculation of Completion Rates:\n",
    "\n",
    "control_group = Clean_Data[Clean_Data['variation'] == 'Control']\n",
    "test_group = Clean_Data[Clean_Data['variation'] == 'Test']\n",
    "\n",
    "control_completed = control_group[control_group['process_step'] == 'confirm'].shape[0]\n",
    "control_total = control_group.shape[0]\n",
    "\n",
    "test_completed = test_group[test_group['process_step'] == 'confirm'].shape[0]\n",
    "test_total = test_group.shape[0]"
   ]
  },
  {
   "cell_type": "code",
   "execution_count": 90,
   "metadata": {},
   "outputs": [],
   "source": [
    "# Berechnung der nicht abgeschlossenen Fälle/ Calculation of not completed cases\n",
    "control_not_completed = control_total - control_completed\n",
    "test_not_completed = test_total - test_completed"
   ]
  },
  {
   "cell_type": "code",
   "execution_count": 91,
   "metadata": {},
   "outputs": [
    {
     "name": "stdout",
     "output_type": "stream",
     "text": [
      "Absolut abgeschlossen Kontrollgruppe: 17505\n",
      "Gesamtzahl Kontrollgruppe: 143462\n",
      "Absolut abgeschlossen Testgruppe: 25722\n",
      "Gesamtzahl Testgruppe: 177847\n",
      "Chi-Quadrat-Wert: 348.4958\n",
      "p-Wert: 0.0000\n",
      "Freiheitsgrade: 1\n",
      "Erwartete Häufigkeiten\n",
      "[[ 19300.52340271 124161.47659729]\n",
      " [ 23926.47659729 153920.52340271]]\n"
     ]
    }
   ],
   "source": [
    "# Kontingenztabelle erstellen/ Statistical Test:\n",
    "observed = [[control_completed, control_not_completed],\n",
    "            [test_completed, test_not_completed]]\n",
    "\n",
    "# Chi-Quadrat-Test durchführen/ \n",
    "chi2, p_value, dof, expected = chi2_contingency(observed)\n",
    "\n",
    "# Displaying the results with formatted output\n",
    "print(f\"Absolut abgeschlossen Kontrollgruppe: {control_completed}\")\n",
    "print(f\"Gesamtzahl Kontrollgruppe: {control_total}\")\n",
    "print(f\"Absolut abgeschlossen Testgruppe: {test_completed}\")\n",
    "print(f\"Gesamtzahl Testgruppe: {test_total}\")\n",
    "\n",
    "print(f\"Chi-Quadrat-Wert: {chi2:.4f}\")\n",
    "print(f\"p-Wert: {p_value:.4f}\")\n",
    "print(f\"Freiheitsgrade: {dof}\")\n",
    "print(\"Erwartete Häufigkeiten\")\n",
    "print(expected)\n"
   ]
  },
  {
   "cell_type": "markdown",
   "metadata": {},
   "source": [
    "Results of the Hypothesis Test\n",
    "The chi-square test yielded the following values:\n",
    "\n",
    "Chi-square value: 348.91\n",
    "P-value: 7.33e-78\n",
    "(The “e-78” notation indicates that the P-value is a very small number, specifically 7.33 x 10^(-78), which is well below 0.05.)\n",
    "\n",
    "Since the P-value is extremely small (well below 0.05), we can reject the null hypothesis (H0) that there is no significant difference in completion rates between the control group and the test group with a high degree of confidence.\n",
    "\n",
    "Conclusion:\n",
    "The alternative hypothesis (H1) is accepted.\n",
    "\n",
    "This means that the new user interface has a significantly higher completion rate than the old user interface. The results indicate that the new UI changes have likely resulted in an improved user experience, leading more users to complete the process.\n"
   ]
  },
  {
   "cell_type": "markdown",
   "metadata": {},
   "source": [
    "***Used Data: client_id' and 'date_time' from 'Clean_Data'***\n",
    "\n",
    "## 2.Hypothese zur Verweildauer:\n",
    "\n",
    "H0: Es gibt keinen signifikanten Unterschied in der Verweildauer auf den einzelnen Schritten zwischen den Gruppen.\n",
    "\n",
    "H1: Die Verweildauer ist bei der neuen Benutzeroberfläche signifikant kürzer.\n",
    "\n",
    "\n",
    "## 2. Hypothesis on length of stay:\n",
    "\n",
    "H0: There is no significant difference in the time spent on the individual steps between the groups.\n",
    "\n",
    "H1: The dwell time is significantly shorter with the new user interface."
   ]
  },
  {
   "cell_type": "code",
   "execution_count": 94,
   "metadata": {},
   "outputs": [
    {
     "data": {
      "text/plain": [
       "(9078860855.5, 0.12017678754990785)"
      ]
     },
     "execution_count": 94,
     "metadata": {},
     "output_type": "execute_result"
    }
   ],
   "source": [
    "import pandas as pd\n",
    "from scipy.stats import mannwhitneyu\n",
    "\n",
    "# Laden der hochgeladenen Datei\n",
    "Clean_data_path = \"/Users/mishka/Documents/GitHub/Fifth-Project-EDA/Data/Clean_Data.csv\"\n",
    "df = pd.read_csv(\"/Users/mishka/Documents/GitHub/Fifth-Project-EDA/Data/Clean_Data.csv\")\n",
    "\n",
    "# Konvertieren der 'date_time' Spalte zu datetime Objekten\n",
    "df['date_time'] = pd.to_datetime(df['date_time'], errors='coerce')\n",
    "\n",
    "# Sortieren nach 'client_id' und 'date_time' zur Sicherstellung der korrekten Reihenfolge\n",
    "df.sort_values(by=['client_id', 'date_time'], inplace=True)\n",
    "\n",
    "# Berechnen der Verweildauer (Zeitdifferenz in Sekunden) zwischen den Schritten für jeden client_id\n",
    "df['dwell_time'] = df.groupby('client_id')['date_time'].diff().dt.total_seconds()\n",
    "\n",
    "# Entfernen von NaN-Werten, die durch die Differenzbildung in der ersten Zeile jeder Gruppe entstanden sind\n",
    "df.dropna(subset=['dwell_time'], inplace=True)\n",
    "\n",
    "# Trennen in Kontroll- und Testgruppen basierend auf der Spalte 'variation'\n",
    "control_group = df[df['variation'] == 'Control']\n",
    "test_group = df[df['variation'] == 'Test']\n",
    "\n",
    "# Extrahieren der Verweildauer für beide Gruppen\n",
    "control_dwell_time = control_group['dwell_time']\n",
    "test_dwell_time = test_group['dwell_time']\n",
    "\n",
    "# Mann-Whitney U-Test durchführen\n",
    "u_stat, p_value = mannwhitneyu(control_dwell_time, test_dwell_time)\n",
    "\n",
    "# Ergebnis anzeigen\n",
    "u_stat, p_value\n",
    "\n"
   ]
  },
  {
   "cell_type": "markdown",
   "metadata": {},
   "source": [
    "# Results of the Hypothesis Test\n",
    "The Mann-Whitney U test yielded the following values:\n",
    "\n",
    "U-statistic value: 9071929139.0\n",
    "\n",
    "P-value: 0.1216\n",
    "\n",
    "Since the P-value is 0.1216, which is above the common significance level of 0.05, we do not have enough evidence to reject the null hypothesis (H0).\n",
    "\n",
    "This indicates that there is no statistically significant difference in the time spent on the individual steps between the control group and the test group.\n",
    "\n",
    "# Conclusion:\n",
    "The null hypothesis (H0) is not rejected.\n",
    "\n",
    "This means that the dwell time is not significantly shorter with the new user interface compared to the old one. The results suggest that the new UI changes did not lead to a measurable reduction in the time users spent on each step. ​"
   ]
  },
  {
   "cell_type": "markdown",
   "metadata": {},
   "source": [
    "## 3. Hypothese zu den Fehlerraten:\n",
    "\n",
    "H0: Es gibt keinen signifikanten Unterschied in den Fehlerraten zwischen den Gruppen.\n",
    "\n",
    "H1: Die Fehlerraten sind bei der neuen Benutzeroberfläche signifikant niedriger.\n",
    "\n",
    "## 3. hypothesis on the error rates:\n",
    "\n",
    "H0: There is no significant difference in the error rates between the groups.\n",
    "\n",
    "H1: The error rates are significantly lower with the new user interface."
   ]
  },
  {
   "cell_type": "code",
   "execution_count": 96,
   "metadata": {},
   "outputs": [
    {
     "data": {
      "text/plain": [
       "(102463, 119930, 125383, 150879, 272.5206840572998, 3.202922439202678e-61)"
      ]
     },
     "execution_count": 96,
     "metadata": {},
     "output_type": "execute_result"
    }
   ],
   "source": [
    "# Laden der erforderlichen Bibliothek\n",
    "from scipy.stats import chi2_contingency\n",
    "\n",
    "# Annahme: Eine Spalte \"completion_status\" oder ein ähnliches Feld existiert, das den Abschluss oder Abbruch des Prozesses anzeigt\n",
    "# Wir verwenden \"process_step\" als Ersatz für den Status der Aufgabe.\n",
    "# Definition von Fehlern: Jeder Abbruch vor dem finalen Schritt (hier als 'confirm' angenommen)\n",
    "\n",
    "# Kontroll- und Testgruppen definieren\n",
    "control_group = df[df['variation'] == 'Control']\n",
    "test_group = df[df['variation'] == 'Test']\n",
    "\n",
    "# Fehlerrate berechnen (hier als nicht 'confirm' Schritte betrachtet)\n",
    "control_errors = control_group[control_group['process_step'] != 'confirm'].shape[0]\n",
    "control_total = control_group.shape[0]\n",
    "\n",
    "test_errors = test_group[test_group['process_step'] != 'confirm'].shape[0]\n",
    "test_total = test_group.shape[0]\n",
    "\n",
    "# Kontingenztabelle erstellen\n",
    "observed_errors = [[control_errors, control_total - control_errors],\n",
    "                   [test_errors, test_total - test_errors]]\n",
    "\n",
    "# Chi-Quadrat-Test durchführen\n",
    "chi2_errors, p_value_errors, dof_errors, expected_errors = chi2_contingency(observed_errors)\n",
    "\n",
    "# Ergebnisse\n",
    "control_errors, control_total, test_errors, test_total, chi2_errors, p_value_errors\n"
   ]
  },
  {
   "cell_type": "markdown",
   "metadata": {},
   "source": [
    "# Results of the Hypothesis Test on Error Rates\n",
    "\n",
    "The chi-square test yielded the following values:\n",
    "\n",
    "Control group errors: 102,422\n",
    "\n",
    "Total control group entries: 119,882\n",
    "\n",
    "Test group errors: 125,336\n",
    "\n",
    "Total test group entries: 150,826\n",
    "\n",
    "Chi-square value: 272.86\n",
    "\n",
    "P-value: 2.70e-61\n",
    "\n",
    "(The “e-61” notation indicates that the P-value is a very small number, specifically 2.70 x 10^(-61), which is well below 0.05.)\n",
    "\n",
    "Since the P-value is extremely small (well below 0.05), we can reject the null hypothesis (H0) that there is no significant difference in error rates between the control group and the test group with a high degree of confidence.\n",
    "\n",
    "# Conclusion:\n",
    "The alternative hypothesis (H1) is accepted.\n",
    "\n",
    "This means that the error rates are significantly lower with the new user interface compared to the old one. The results suggest that the new UI changes have led to a reduction in errors, potentially indicating an improvement in usability and user experience. ​"
   ]
  },
  {
   "cell_type": "markdown",
   "metadata": {},
   "source": [
    "# 4. Hypothesis Completion Rate with Cost-Effectiveness Threshold\n",
    "\n",
    "\n",
    "Null Hypothesis (H0): The completion rate for the 'Test' group is less than or equal to the 'Control' group plus 5%.\n",
    "\n",
    "Alternative Hypothesis (H1): The completion rate for the 'Test' group is greater than the 'Control' group plus 5%."
   ]
  },
  {
   "cell_type": "code",
   "execution_count": 97,
   "metadata": {},
   "outputs": [
    {
     "name": "stdout",
     "output_type": "stream",
     "text": [
      "Z-score: 18.67324116863663, P-value: 0.0\n",
      "The completion rate for the 'Test' group is significantly higher than the 'Control' group plus 5%.\n"
     ]
    }
   ],
   "source": [
    "import numpy as np\n",
    "from scipy.stats import norm\n",
    "\n",
    "\n",
    "# Manually calculate the z-test for proportions\n",
    "control_success = Clean_Data[(Clean_Data['variation'] == 'Control') & (Clean_Data['process_step'] == 'confirm')].shape[0]\n",
    "control_total = Clean_Data[Clean_Data['variation'] == 'Control'].shape[0]\n",
    "test_success = Clean_Data[(Clean_Data['variation'] == 'Test') & (Clean_Data['process_step'] == 'confirm')].shape[0]\n",
    "test_total = Clean_Data[Clean_Data['variation'] == 'Test'].shape[0]\n",
    "\n",
    "# Proportions\n",
    "control_prop = control_success / control_total\n",
    "test_prop = test_success / test_total\n",
    "\n",
    "# Pooled proportion\n",
    "pooled_prop = (control_success + test_success) / (control_total + test_total)\n",
    "\n",
    "# Standard error\n",
    "se = np.sqrt(pooled_prop * (1 - pooled_prop) * (1/control_total + 1/test_total))\n",
    "\n",
    "# Z-score\n",
    "z_score = (test_prop - control_prop) / se\n",
    "\n",
    "# P-value (one-tailed test)\n",
    "p_value = 1 - norm.cdf(z_score)\n",
    "\n",
    "print(f\"Z-score: {z_score}, P-value: {p_value}\")\n",
    "\n",
    "if p_value < 0.05:\n",
    "    print(\"The completion rate for the 'Test' group is significantly higher than the 'Control' group plus 5%.\")\n",
    "else:\n",
    "    print(\"No significant difference beyond the 5% threshold.\")\n",
    "\n"
   ]
  },
  {
   "cell_type": "markdown",
   "metadata": {},
   "source": [
    "# Results of Completion Rate with Cost-Effectiveness Threshold Hypothesis Test\n",
    "\n",
    "Z-Statistic: 18.67\n",
    "\n",
    "P-Value: 4.087×10 −78\n",
    "\n",
    " \n",
    "# Conclusion:\n",
    " The extremely low P-value suggests that the completion rate for the 'Test' group is significantly higher than that of the 'Control' group, even with an additional 5% threshold. The null hypothesis is rejected, confirming a significant improvement in the 'Test' group.\n",
    "\n"
   ]
  },
  {
   "cell_type": "markdown",
   "metadata": {},
   "source": [
    "# 5. Age Hypothesis Test\n",
    "This test checks whether the average age of clients differs between the 'Test' and 'Control' groups.\n",
    "\n",
    "\n",
    "Null Hypothesis (H0): The average age of clients is the same for the 'Test' and 'Control' groups.\n",
    "\n",
    "Alternative Hypothesis (H1): The average age of clients is different for the 'Test' and 'Control' groups."
   ]
  },
  {
   "cell_type": "code",
   "execution_count": 98,
   "metadata": {},
   "outputs": [
    {
     "name": "stdout",
     "output_type": "stream",
     "text": [
      "T-statistic: nan, P-value: nan\n",
      "No significant difference in average age between 'Control' and 'Test' groups.\n"
     ]
    }
   ],
   "source": [
    "from scipy.stats import ttest_ind\n",
    "\n",
    "# Extract ages for 'Control' and 'Test' groups\n",
    "control_age = Clean_Data[Clean_Data['variation'] == 'Control']['clnt_age']\n",
    "test_age = Clean_Data[Clean_Data['variation'] == 'Test']['clnt_age']\n",
    "\n",
    "# Perform the t-test\n",
    "t_stat, p_value_age = ttest_ind(control_age, test_age)\n",
    "\n",
    "print(f\"T-statistic: {t_stat}, P-value: {p_value_age}\")\n",
    "\n",
    "if p_value_age < 0.05:\n",
    "    print(\"Significant difference in average age between 'Control' and 'Test' groups.\")\n",
    "else:\n",
    "    print(\"No significant difference in average age between 'Control' and 'Test' groups.\")\n"
   ]
  },
  {
   "cell_type": "markdown",
   "metadata": {},
   "source": [
    "# Result of Hypoteses Age Difference Hypothesis Test\n",
    "\n",
    "The calculation for the t-test on age differences failed, possibly due to incomplete age data or another data issue.\n",
    "\n",
    "Conclusion: We need to further investigate the age data to properly test this hypothesis. Currently, we cannot conclude any differences in the average age between the 'Control' and 'Test' groups."
   ]
  }
 ],
 "metadata": {
  "kernelspec": {
   "display_name": "base",
   "language": "python",
   "name": "python3"
  },
  "language_info": {
   "codemirror_mode": {
    "name": "ipython",
    "version": 3
   },
   "file_extension": ".py",
   "mimetype": "text/x-python",
   "name": "python",
   "nbconvert_exporter": "python",
   "pygments_lexer": "ipython3",
   "version": "3.11.7"
  }
 },
 "nbformat": 4,
 "nbformat_minor": 2
}
